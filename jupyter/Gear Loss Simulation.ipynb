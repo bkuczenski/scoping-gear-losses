{
 "cells": [
  {
   "cell_type": "markdown",
   "metadata": {},
   "source": [
    "## Plastic gear loss estimates from remote observation of industrial fishing activity\n",
    "\n",
    "**Brandon Kuczenski,* Camila Vargas, Eric L. Gilman, Michael Musyl, Roland Geyer, Jono Wilson**\n",
    "\n",
    "`bkuczenski@ucsb.edu`\n",
    "\n",
    "Submitted to _Science Advances_, 2021-04-09\n",
    "\n",
    "Derelict fishing gear is a highly visible source of marine plastic pollution, causing\n",
    "mortality and ecosystem degradation with unknown long-term consequences. The quantity\n",
    "of derelict gear entering the oceans remains unknown because of heterogeneity in fishing\n",
    "gear and effort and the lack of observation and monitoring. Prior studies have been limited\n",
    "to specific fisheries and regions, and large-scale estimates lack an empirical basis. We\n",
    "utilized remote observations of fishing vessel activity paired with technical fishing gear\n",
    "models to generate a scoping estimate for gear lost during use worldwide in 2018. Median\n",
    "estimates for plastic from industrial trawl, purse seine and pelagic longline fishing\n",
    "amounted to 3.04-46.85 kt (1.88-87.83 kt with 95% confidence) while obtaining 49.6 Mt\n",
    "of catch and discards. Our results provide a benchmark for more refined management of\n",
    "fishing gears. Improved observation, especially of small-scale fisheries, is needed to better\n",
    "understand the sources of derelict gear."
   ]
  },
  {
   "cell_type": "code",
   "execution_count": 1,
   "metadata": {},
   "outputs": [
    {
     "name": "stdout",
     "output_type": "stream",
     "text": [
      "Adding path: /data/GitHub/2021/scoping-gear-losses\n"
     ]
    }
   ],
   "source": [
    "# Main Imports\n",
    "\n",
    "import sys\n",
    "import os\n",
    "addwd = os.path.abspath(os.path.join(os.getcwd(), '..'))\n",
    "print('Adding path: %s' % addwd)\n",
    "sys.path.append(addwd)\n",
    "\n",
    "from math import prod, log10, floor, ceil\n",
    "from statistics import median\n",
    "\n",
    "from itertools import chain\n",
    "import pandas as pd"
   ]
  },
  {
   "cell_type": "code",
   "execution_count": 2,
   "metadata": {},
   "outputs": [],
   "source": [
    "# Graphics Imports + config\n",
    "\n",
    "from matplotlib import pyplot as plt\n",
    "import seaborn as sns\n",
    "%matplotlib inline\n",
    "sns.set_style('darkgrid')\n",
    "       "
   ]
  },
  {
   "cell_type": "code",
   "execution_count": 3,
   "metadata": {},
   "outputs": [],
   "source": [
    "diss_to_ocean_fig = os.path.join(addwd,  'output', 'simulation', 'Dissipation-to-ocean_demo.pdf')\n",
    "gear_intensity_fig = os.path.join(addwd,  'output', 'simulation', 'Gear-diss-intensity-fad_demo.pdf')\n",
    "results_csv = os.path.join(addwd,  'output', 'simulation', 'gear-diss-results_demo.csv')"
   ]
  },
  {
   "cell_type": "code",
   "execution_count": 4,
   "metadata": {},
   "outputs": [],
   "source": [
    "from fishery_model import tnc_gear_loss_params, simulation_table\n",
    "\n",
    "from fishery_model.gear_loss_estimators import total_across, unit_samples, unit_diss"
   ]
  },
  {
   "cell_type": "code",
   "execution_count": 5,
   "metadata": {},
   "outputs": [
    {
     "name": "stdout",
     "output_type": "stream",
     "text": [
      "Adding catch quantity Kilowatt-hour proxy catch\n",
      "Adding catch quantity Vessel meter LOA-hour proxy catch\n",
      "Adding catch quantity Vessel gross tonnage-hour proxy catch\n",
      "Adding scaling quantity Number of FADs\n",
      "Adding effort model Fish Aggregating Devices - Tuna Purse Seine Fisheries\n",
      "Adding gear intensity model Fish Aggregating Devices - Drifting FADs\n",
      "Adding dissipation model Gilman prioritization - Drift gillnet\n",
      "Adding dissipation model Gilman prioritization - Set and fixed gillnet\n",
      "Adding dissipation model Gilman prioritization - Purse seine Non-tuna\n",
      "Adding dissipation model Gilman prioritization - Boat Seine net\n",
      "Adding dissipation model Gilman prioritization - Bottom trawl\n",
      "Adding dissipation model Gilman prioritization - Pots\n",
      "Adding dissipation model Gilman prioritization - Fyke net\n",
      "Adding dissipation model Gilman prioritization - Pound net\n",
      "Adding dissipation model Gilman prioritization - Tuna purse seine drifting FAD\n",
      "Adding dissipation model Gilman prioritization - Tuna purse seine anchored FAD\n",
      "Adding dissipation model Gilman prioritization - Pole-and-line anchored FAD\n",
      "Adding dissipation model Gilman prioritization - Pelagic longline\n",
      "Adding dissipation model Gilman prioritization - Demersal longline and trotline\n",
      "Adding dissipation model Gilman prioritization - Handline, surface, midwater and bottom\n",
      "Adding dissipation model Gilman prioritization - Troll\n",
      "Adding dissipation model Gilman prioritization - Pole-and-line\n",
      "Adding effort model Reported CPUE - Demersal set gillnets\n",
      "Adding gear intensity model Musyl Set-net model\n",
      "Adding gear intensity model Seiners - reported\n",
      "Adding dissipation model Expert Reports - Purse Seine Tuna\n",
      "Adding gear intensity model Musyl Gilman Longline outreach\n",
      "Building regression models for tau=0.5\n",
      "Generating operation-equivalency data for seiners\n",
      "Gear type: seiners\n",
      "  Total: N  476 catch 4.61216e+07 hours 1.70026e+07\n",
      "Yielded: N  182 catch 4.18826e+07 hours 1.44949e+07\n",
      "\n",
      "\n",
      "Generating operation-equivalency data for trawlers\n",
      "Gear type: trawlers\n",
      "  Total: N  658 catch 5.42915e+07 hours 9.06711e+07\n",
      "Yielded: N  228 catch 5.04091e+07 hours 8.71066e+07\n",
      "\n",
      "\n",
      "Generating operation-equivalency data for drifting_longlines\n",
      "Gear type: drifting_longlines\n",
      "  Total: N  544 catch 2.79078e+06 hours 3.21543e+07\n",
      "Yielded: N  216 catch 2.28373e+06 hours 2.63047e+07\n",
      "\n",
      "\n",
      "Building regression models for tau=0.6\n",
      "Building regression models for tau=0.7\n",
      "Building regression models for tau=0.8\n",
      "Building regression models for tau=0.9\n",
      "Gear type: set_gillnets\n",
      "year: 2018\n",
      "  Total: N  150 catch 5.40156e+06 hours 2.05812e+07\n",
      "Yielded: N   27 catch 2.73362e+06 hours 9.33169e+06\n",
      "\n",
      "\n",
      "Gear type: seiners\n",
      "year: 2018\n",
      "  Total: N  138 catch 5.42852e+06\n",
      "Yielded: N   67 catch 2.81321e+06\n",
      "\n",
      "\n",
      "Gear type: drifting_longlines\n",
      "year: 2018\n",
      "  Total: N  544 catch 2.79078e+06 hours 3.21543e+07\n",
      "Yielded: N  109 catch 1.16191e+06 hours 1.43417e+07\n",
      "\n",
      "\n",
      "Gear type: drifting_longlines\n",
      "year: 2018\n",
      "  Total: N  544 catch 2.79078e+06 hours 3.21543e+07\n",
      "Yielded: N  109 catch 1.16191e+06 hours 1.43417e+07\n",
      "\n",
      "\n",
      "Gear type: drifting_longlines\n",
      "year: 2018\n",
      "  Total: N  544 catch 2.79078e+06 hours 3.21543e+07\n",
      "Yielded: N  109 catch 1.16191e+06 hours 1.43417e+07\n",
      "\n",
      "\n",
      "Gear type: seiners\n",
      "year: 2018\n",
      "  Total: N  476 catch 4.61216e+07 hours 1.70026e+07\n",
      "Yielded: N   93 catch 2.29558e+07 hours 7.52296e+06\n",
      "\n",
      "\n",
      "Gear type: seiners\n",
      "year: 2018\n",
      "  Total: N  476 catch 4.61216e+07 hours 1.70026e+07\n",
      "Yielded: N   93 catch 2.29558e+07 hours 7.52296e+06\n",
      "\n",
      "\n",
      "Gear type: seiners\n",
      "year: 2018\n",
      "  Total: N  476 catch 4.61216e+07 hours 1.70026e+07\n",
      "Yielded: N   93 catch 2.29558e+07 hours 7.52296e+06\n",
      "\n",
      "\n",
      "Gear type: trawlers\n",
      "year: 2018\n",
      "  Total: N  658 catch 5.42915e+07 hours 9.06711e+07\n",
      "Yielded: N  113 catch 2.5533e+07 hours 4.49611e+07\n",
      "\n",
      "\n",
      "Gear type: trawlers\n",
      "year: 2018\n",
      "  Total: N  658 catch 5.42915e+07 hours 9.06711e+07\n",
      "Yielded: N  113 catch 2.5533e+07 hours 4.49611e+07\n",
      "\n",
      "\n",
      "Gear type: trawlers\n",
      "year: 2018\n",
      "  Total: N  658 catch 5.42915e+07 hours 9.06711e+07\n",
      "Yielded: N  113 catch 2.5533e+07 hours 4.49611e+07\n",
      "\n",
      "\n"
     ]
    }
   ],
   "source": [
    "study = tnc_gear_loss_params(year='2018')\n",
    "sgn = next(study.proxy_sets('set_gillnets'))\n",
    "fad = next(study.proxy_sets('FADs'))"
   ]
  },
  {
   "cell_type": "raw",
   "metadata": {},
   "source": [
    "# for estimating Korean set-gillnet catch\n",
    "from fishery_model.gear_loss_estimators import GearLossEstimators\n",
    "kor = GearLossEstimators(year='2018', iso3_code='KOR')\n",
    "sgn_kor = kor.init_proxy_set('set_gillnets')\n",
    "Gear type: set_gillnets\n",
    "year: 2018\n",
    "iso3_code: KOR\n",
    "  Total: N  150 catch 5.40156e+06 hours 2.05812e+07\n",
    "Yielded: N    1 catch 85039.1 hours 500305\n",
    "\n",
    "\n",
    "CPU times: user 438 ms, sys: 36.8 ms, total: 475 ms\n",
    "Wall time: 449 ms"
   ]
  },
  {
   "cell_type": "markdown",
   "metadata": {},
   "source": [
    "# Validation\n",
    "If desired, you can bypass this section and skip down to \"GFW Result Sets\""
   ]
  },
  {
   "cell_type": "markdown",
   "metadata": {},
   "source": [
    "## Check operating-time equivalency by gear"
   ]
  },
  {
   "cell_type": "code",
   "execution_count": 6,
   "metadata": {},
   "outputs": [],
   "source": [
    "from fishery_model.fishery import OP_EQUIV_DICT"
   ]
  },
  {
   "cell_type": "code",
   "execution_count": 7,
   "metadata": {},
   "outputs": [
    {
     "data": {
      "text/plain": [
       "{'seiners': 445.21897040482594,\n",
       " 'trawlers': 837.983893997561,\n",
       " 'drifting_longlines': 1545.2308057234372}"
      ]
     },
     "execution_count": 7,
     "metadata": {},
     "output_type": "execute_result"
    }
   ],
   "source": [
    "# number of hours per year of vessel operation, according to the GFW dataset\n",
    "{k: v['Fishing hour']/v['Year of operation'] for k, v in OP_EQUIV_DICT.items()}"
   ]
  },
  {
   "cell_type": "markdown",
   "metadata": {},
   "source": [
    "## Inspect key fishery parameters\n",
    "\n",
    "\n",
    "`res_l_5` has 109 fisheries, each of which will be sampled during each Monte Carlo iteration. For a given fishery, I should expect:\n",
    " - the effort intensity should be lognormally distributed around the mean regression result\n",
    " - the gear intensity distribution for every fishery should look the same"
   ]
  },
  {
   "cell_type": "code",
   "execution_count": 8,
   "metadata": {},
   "outputs": [],
   "source": [
    "res_l_5 = next(study.result_sets(gear='drifting_longlines', tau='0.5'))"
   ]
  },
  {
   "cell_type": "code",
   "execution_count": 9,
   "metadata": {},
   "outputs": [
    {
     "data": {
      "text/plain": [
       "True"
      ]
     },
     "execution_count": 9,
     "metadata": {},
     "output_type": "execute_result"
    }
   ],
   "source": [
    "res_l_5.N == 109"
   ]
  },
  {
   "cell_type": "code",
   "execution_count": 10,
   "metadata": {},
   "outputs": [],
   "source": [
    "r0 = res_l_5[0]"
   ]
  },
  {
   "cell_type": "code",
   "execution_count": 11,
   "metadata": {},
   "outputs": [
    {
     "data": {
      "text/plain": [
       "True"
      ]
     },
     "execution_count": 11,
     "metadata": {},
     "output_type": "execute_result"
    }
   ],
   "source": [
    "round(r0.fishery.effort_moment(res_l_5._eff), 5) == 26.72437"
   ]
  },
  {
   "cell_type": "code",
   "execution_count": 12,
   "metadata": {},
   "outputs": [
    {
     "data": {
      "text/plain": [
       "True"
      ]
     },
     "execution_count": 12,
     "metadata": {},
     "output_type": "execute_result"
    }
   ],
   "source": [
    "round(r0.fishery.catch, 5) == 103.67188"
   ]
  },
  {
   "cell_type": "code",
   "execution_count": 13,
   "metadata": {},
   "outputs": [
    {
     "name": "stdout",
     "output_type": "stream",
     "text": [
      ".\n",
      ".\n",
      ".\n",
      ".\n",
      ".\n",
      ".\n",
      ".\n",
      ".\n",
      ".\n"
     ]
    }
   ],
   "source": [
    "# Now just do a couple iteration for each GFW fishery\n",
    "study.n_gfw = 3"
   ]
  },
  {
   "cell_type": "code",
   "execution_count": 14,
   "metadata": {},
   "outputs": [
    {
     "data": {
      "text/plain": [
       "{'name': '2018-AUS-drifting_longlines-FAO 57',\n",
       " 'n_vessel': 7,\n",
       " 'model': <unit_gears.query.GearModel at 0x7f17b198ad90>,\n",
       " 'catch': 103.67187938945597,\n",
       " 'sample': <unit_gears.query.SampleDetail at 0x7f17c589d730>,\n",
       " 'gear': 611.7027669713741,\n",
       " 'dissipation': 25.688185745122038}"
      ]
     },
     "execution_count": 14,
     "metadata": {},
     "output_type": "execute_result"
    }
   ],
   "source": [
    "# the sample is random, but the catch should be as seen above\n",
    "r0.detail(0)"
   ]
  },
  {
   "cell_type": "code",
   "execution_count": 15,
   "metadata": {},
   "outputs": [
    {
     "data": {
      "text/plain": [
       "(26.72436844390784, 222.38141147580296)"
      ]
     },
     "execution_count": 15,
     "metadata": {},
     "output_type": "execute_result"
    }
   ],
   "source": [
    "# (26.72436844390784, 222.38141147580296)\n",
    "r0._m[0].effort.mean(r0._ep)"
   ]
  },
  {
   "cell_type": "code",
   "execution_count": 16,
   "metadata": {},
   "outputs": [
    {
     "data": {
      "text/plain": [
       "True"
      ]
     },
     "execution_count": 16,
     "metadata": {},
     "output_type": "execute_result"
    }
   ],
   "source": [
    "r0._m[0].effort is r0._m[1].effort"
   ]
  },
  {
   "cell_type": "code",
   "execution_count": 17,
   "metadata": {},
   "outputs": [
    {
     "data": {
      "text/plain": [
       "True"
      ]
     },
     "execution_count": 17,
     "metadata": {},
     "output_type": "execute_result"
    }
   ],
   "source": [
    "sgn.total_catch['One tonne landed catch'] == 2542163.3513"
   ]
  },
  {
   "cell_type": "code",
   "execution_count": 18,
   "metadata": {},
   "outputs": [],
   "source": [
    "ll = fad.models()"
   ]
  },
  {
   "cell_type": "code",
   "execution_count": 19,
   "metadata": {},
   "outputs": [
    {
     "data": {
      "text/plain": [
       "['Fish Aggregating Devices - Tuna Purse Seine Fisheries; Fish Aggregating Devices - Drifting FADs; Gilman prioritization - Tuna purse seine anchored FAD',\n",
       " 'Fish Aggregating Devices - Tuna Purse Seine Fisheries; Fish Aggregating Devices - Drifting FADs; Gilman prioritization - Tuna purse seine drifting FAD']"
      ]
     },
     "execution_count": 19,
     "metadata": {},
     "output_type": "execute_result"
    }
   ],
   "source": [
    "[str(k) for k in ll]"
   ]
  },
  {
   "cell_type": "code",
   "execution_count": 20,
   "metadata": {},
   "outputs": [
    {
     "data": {
      "text/plain": [
       "['GFW Regression, seiners, total_f_hours_tonnage, 0.5; Seiners - reported; Expert Reports - Purse Seine Tuna',\n",
       " 'GFW Regression, seiners, total_f_hours_tonnage, 0.5; Seiners - reported; Gilman prioritization - Boat Seine net',\n",
       " 'GFW Regression, seiners, total_f_hours_tonnage, 0.5; Seiners - reported; Gilman prioritization - Purse seine Non-tuna',\n",
       " 'GFW Regression, seiners, total_f_hours_tonnage, 0.5; Seiners - reported; Norway - Danish Seine - Lost to ocean',\n",
       " 'GFW Regression, seiners, total_f_hours_tonnage, 0.5; Seiners - reported; Norway - Purse Seine - Lost to ocean']"
      ]
     },
     "execution_count": 20,
     "metadata": {},
     "output_type": "execute_result"
    }
   ],
   "source": [
    "res_s_5 = next(study.result_sets(gear='seiners', tau='0.5'))\n",
    "[str(k) for k in res_s_5.models()]"
   ]
  },
  {
   "cell_type": "code",
   "execution_count": 21,
   "metadata": {},
   "outputs": [
    {
     "data": {
      "text/plain": [
       "'y ~ 10 ** 0:1.27 N;1:0.000604 N (x)'"
      ]
     },
     "execution_count": 21,
     "metadata": {},
     "output_type": "execute_result"
    }
   ],
   "source": [
    "# 'y ~ 10 ** 0:1.27 N;1:0.000604 N (x)'\n",
    "str(res_s_5[0]._m[3].effort._model)"
   ]
  },
  {
   "cell_type": "code",
   "execution_count": 22,
   "metadata": {},
   "outputs": [],
   "source": [
    "# unit tests\n",
    "res_s_9 = next(study.result_sets(gear='seiners', tau='0.9'))\n",
    "assert round(res_s_9[0].fishery.effort_moment(res_s_5._eff), 2) == 318.88\n",
    "assert res_s_9[0].fishery.name == '2018-AGO-seiners-FAO 47'\n",
    "assert str(res_s_5[0]._m[3].effort._model) == 'y ~ 10 ** 0:1.27 N;1:0.000604 N (x)'  # was 'y ~ 10 ** 0:1.52 N;1:0.000672 (x)"
   ]
  },
  {
   "cell_type": "code",
   "execution_count": 23,
   "metadata": {},
   "outputs": [
    {
     "data": {
      "text/plain": [
       "True"
      ]
     },
     "execution_count": 23,
     "metadata": {},
     "output_type": "execute_result"
    }
   ],
   "source": [
    "round(next(study.result_sets(gear='seiners')).total_catch['One tonne capture']) == 22955837"
   ]
  },
  {
   "cell_type": "code",
   "execution_count": 24,
   "metadata": {},
   "outputs": [
    {
     "data": {
      "text/plain": [
       "True"
      ]
     },
     "execution_count": 24,
     "metadata": {},
     "output_type": "execute_result"
    }
   ],
   "source": [
    "round(next(study.result_sets(gear='trawlers')).total_catch['One tonne capture']) == 25532964"
   ]
  },
  {
   "cell_type": "code",
   "execution_count": 25,
   "metadata": {},
   "outputs": [
    {
     "data": {
      "text/plain": [
       "0.5407507399198972"
      ]
     },
     "execution_count": 25,
     "metadata": {},
     "output_type": "execute_result"
    }
   ],
   "source": [
    "# percent of global capture that has been matched to GFW fisheries\n",
    "sum(k.total_catch['One tonne capture'] for k in study.result_sets(tau='0.9'))/91818107\n"
   ]
  },
  {
   "cell_type": "markdown",
   "metadata": {},
   "source": [
    "# Run Simulations\n",
    "First do the proxy systems because they are faster."
   ]
  },
  {
   "cell_type": "code",
   "execution_count": 26,
   "metadata": {},
   "outputs": [
    {
     "name": "stdout",
     "output_type": "stream",
     "text": [
      ".\n",
      ".\n"
     ]
    },
    {
     "data": {
      "text/plain": [
       "<AxesSubplot:ylabel='Count'>"
      ]
     },
     "execution_count": 26,
     "metadata": {},
     "output_type": "execute_result"
    },
    {
     "data": {
      "image/png": "[encoded data removed]",
      "text/plain": [
       "<Figure size 432x288 with 1 Axes>"
      ]
     },
     "metadata": {},
     "output_type": "display_data"
    }
   ],
   "source": [
    "## Set Gillnets\n",
    "# this one takes about 10 sec to run the gillnet simulation and about 30 sec for PS FADs\n",
    "\n",
    "study.n_prox = 2000\n",
    "\n",
    "sns.histplot({'sgn': total_across(sgn)}, element='poly', log_scale=True, bins=100)"
   ]
  },
  {
   "cell_type": "code",
   "execution_count": 27,
   "metadata": {},
   "outputs": [
    {
     "data": {
      "text/plain": [
       "<AxesSubplot:ylabel='Count'>"
      ]
     },
     "execution_count": 27,
     "metadata": {},
     "output_type": "execute_result"
    },
    {
     "data": {
      "image/png": "[encoded data removed]",
      "text/plain": [
       "<Figure size 432x288 with 1 Axes>"
      ]
     },
     "metadata": {},
     "output_type": "display_data"
    }
   ],
   "source": [
    "sns.histplot({'dfad': total_across(fad)}, element='step', log_scale=True, bins=100)"
   ]
  },
  {
   "cell_type": "code",
   "execution_count": 28,
   "metadata": {},
   "outputs": [
    {
     "name": "stdout",
     "output_type": "stream",
     "text": [
      ".\n",
      ".\n",
      ".\n",
      ".\n",
      ".\n",
      ".\n",
      ".\n",
      ".\n",
      ".\n"
     ]
    }
   ],
   "source": [
    "study.n_gfw = 500  # takes ~2 minutes - run the first 500 iterations for GFW result sets"
   ]
  },
  {
   "cell_type": "code",
   "execution_count": 29,
   "metadata": {},
   "outputs": [
    {
     "data": {
      "text/plain": [
       "<AxesSubplot:ylabel='Count'>"
      ]
     },
     "execution_count": 29,
     "metadata": {},
     "output_type": "execute_result"
    },
    {
     "data": {
      "image/png": "[encoded data removed]",
      "text/plain": [
       "<Figure size 432x288 with 1 Axes>"
      ]
     },
     "metadata": {},
     "output_type": "display_data"
    }
   ],
   "source": [
    "# this is the combined unit dissipation rate for one fishery\n",
    "sns.histplot(list(res_l_5[0].samples), log_scale=True)"
   ]
  },
  {
   "cell_type": "markdown",
   "metadata": {},
   "source": [
    "### Gear Intensity\n",
    "The following 3 charts should all look roughly (probabilistically) the same -- all fisheries use the same\n",
    "gear intensity model."
   ]
  },
  {
   "cell_type": "code",
   "execution_count": 30,
   "metadata": {},
   "outputs": [
    {
     "data": {
      "text/plain": [
       "<AxesSubplot:ylabel='Count'>"
      ]
     },
     "execution_count": 30,
     "metadata": {},
     "output_type": "execute_result"
    },
    {
     "data": {
      "image/png": "[encoded data removed]",
      "text/plain": [
       "<Figure size 432x288 with 1 Axes>"
      ]
     },
     "metadata": {},
     "output_type": "display_data"
    }
   ],
   "source": [
    "sns.histplot([res_l_5[0].detail(k)['sample'].gear for k in range(r0.n)], log_scale=False, element='step')"
   ]
  },
  {
   "cell_type": "code",
   "execution_count": 31,
   "metadata": {},
   "outputs": [
    {
     "data": {
      "text/plain": [
       "<AxesSubplot:ylabel='Count'>"
      ]
     },
     "execution_count": 31,
     "metadata": {},
     "output_type": "execute_result"
    },
    {
     "data": {
      "image/png": "[encoded data removed]",
      "text/plain": [
       "<Figure size 432x288 with 1 Axes>"
      ]
     },
     "metadata": {},
     "output_type": "display_data"
    }
   ],
   "source": [
    "sns.histplot([res_l_5[1].detail(k)['sample'].gear for k in range(r0.n)], log_scale=False, element='step')"
   ]
  },
  {
   "cell_type": "code",
   "execution_count": 32,
   "metadata": {},
   "outputs": [
    {
     "data": {
      "text/plain": [
       "<AxesSubplot:ylabel='Count'>"
      ]
     },
     "execution_count": 32,
     "metadata": {},
     "output_type": "execute_result"
    },
    {
     "data": {
      "image/png": "[encoded data removed]",
      "text/plain": [
       "<Figure size 432x288 with 1 Axes>"
      ]
     },
     "metadata": {},
     "output_type": "display_data"
    }
   ],
   "source": [
    "sns.histplot([res_l_5[2].detail(k)['sample'].gear for k in range(r0.n)], log_scale=False, element='step')"
   ]
  },
  {
   "cell_type": "code",
   "execution_count": null,
   "metadata": {},
   "outputs": [],
   "source": []
  },
  {
   "cell_type": "code",
   "execution_count": null,
   "metadata": {},
   "outputs": [],
   "source": []
  },
  {
   "cell_type": "code",
   "execution_count": null,
   "metadata": {},
   "outputs": [],
   "source": []
  },
  {
   "cell_type": "code",
   "execution_count": null,
   "metadata": {},
   "outputs": [],
   "source": []
  },
  {
   "cell_type": "code",
   "execution_count": null,
   "metadata": {},
   "outputs": [],
   "source": []
  },
  {
   "cell_type": "markdown",
   "metadata": {},
   "source": [
    "# GFW Result Sets"
   ]
  },
  {
   "cell_type": "code",
   "execution_count": 33,
   "metadata": {},
   "outputs": [
    {
     "name": "stdout",
     "output_type": "stream",
     "text": [
      ".\n",
      ".\n",
      ".\n",
      ".\n",
      ".\n",
      ".\n",
      ".\n",
      ".\n",
      ".\n",
      "CPU times: user 8min 54s, sys: 5.19 s, total: 8min 59s\n",
      "Wall time: 9min 1s\n",
      ".\n",
      ".\n",
      "CPU times: user 16.5 s, sys: 143 ms, total: 16.6 s\n",
      "Wall time: 16.7 s\n"
     ]
    }
   ],
   "source": [
    "### Continuation-- upsample to n=3000 -- 10-15 min, depending on whether you already ran the first n=500\n",
    "\n",
    "%time study.n_gfw = 3000\n",
    "%time study.n_prox = 3000"
   ]
  },
  {
   "cell_type": "markdown",
   "metadata": {},
   "source": [
    "## Total Results\n",
    "4-facet plot\n",
    "\n",
    "This sums the ith random sample across all fisheries to compute total gear use / plastic flows for that simulation.\n",
    "\n",
    "tau represents the quantile regression fit parameter. The effort intensity model is applied as a first order filter with normal uncertainty on the y-intercept,  but with the slope being static for numerical stability."
   ]
  },
  {
   "cell_type": "code",
   "execution_count": 34,
   "metadata": {},
   "outputs": [],
   "source": [
    "from fishery_model.simulation_plots import total_dissipation_fig, intensity_fig"
   ]
  },
  {
   "cell_type": "code",
   "execution_count": 35,
   "metadata": {},
   "outputs": [
    {
     "name": "stdout",
     "output_type": "stream",
     "text": [
      "[222518.89015082206, 345242895.36269206]\n"
     ]
    },
    {
     "data": {
      "image/png": "[encoded data removed]",
      "text/plain": [
       "<Figure size 576x432 with 5 Axes>"
      ]
     },
     "metadata": {},
     "output_type": "display_data"
    }
   ],
   "source": [
    "f = total_dissipation_fig(study)\n",
    "plt.savefig(diss_to_ocean_fig, bbox_inches='tight')"
   ]
  },
  {
   "cell_type": "code",
   "execution_count": null,
   "metadata": {},
   "outputs": [],
   "source": []
  },
  {
   "cell_type": "markdown",
   "metadata": {},
   "source": [
    "## Unit Catch Basis\n",
    "We actually have 4 different possible plots (times 3 different gears):\n",
    " - gear use per tonne of catch [per year]\n",
    " - gear use per vessel per year\n",
    " - dissipation per tonne of catch\n",
    " - dissipation per vessel\n",
    " \n",
    "Let's get each individual one working and then try a couple of different ways to overlay them.\n",
    "\n",
    "This could be a 2/3 page figure with 6, 9, or 12 panes.\n",
    "\n"
   ]
  },
  {
   "cell_type": "markdown",
   "metadata": {},
   "source": [
    "This is just going to be unit basis of fig4\n",
    "\n",
    "so it will be a stack of 3 axes- why not a seaborn style? bc I haven't gotten it to work\n",
    "but "
   ]
  },
  {
   "cell_type": "code",
   "execution_count": 36,
   "metadata": {},
   "outputs": [
    {
     "name": "stdout",
     "output_type": "stream",
     "text": [
      "[0.0007658611107534299, 230315.22908636997]\n",
      "[8.431391122905164e-06, 6396.854399524539]\n"
     ]
    },
    {
     "data": {
      "image/png": "[encoded data removed]",
      "text/plain": [
       "<Figure size 864x540 with 10 Axes>"
      ]
     },
     "metadata": {},
     "output_type": "display_data"
    }
   ],
   "source": [
    "f = intensity_fig(study)\n",
    "plt.savefig(gear_intensity_fig, bbox_inches='tight')"
   ]
  },
  {
   "cell_type": "code",
   "execution_count": 40,
   "metadata": {},
   "outputs": [],
   "source": []
  },
  {
   "cell_type": "code",
   "execution_count": 41,
   "metadata": {},
   "outputs": [],
   "source": [
    "# need a results table.  5/95 x3 x3 +2\n",
    "\n",
    "\n",
    "\n",
    "\n"
   ]
  },
  {
   "cell_type": "code",
   "execution_count": 37,
   "metadata": {},
   "outputs": [],
   "source": [
    "# takes roughly 20 s, again for unit_samples and total_across\n",
    "from fishery_model import simulation_table\n",
    "tab3 = simulation_table(study)"
   ]
  },
  {
   "cell_type": "code",
   "execution_count": 38,
   "metadata": {},
   "outputs": [
    {
     "data": {
      "text/html": [
       "<div>\n",
       "<style scoped>\n",
       "    .dataframe tbody tr th:only-of-type {\n",
       "        vertical-align: middle;\n",
       "    }\n",
       "\n",
       "    .dataframe tbody tr th {\n",
       "        vertical-align: top;\n",
       "    }\n",
       "\n",
       "    .dataframe thead th {\n",
       "        text-align: right;\n",
       "    }\n",
       "</style>\n",
       "<table border=\"1\" class=\"dataframe\">\n",
       "  <thead>\n",
       "    <tr style=\"text-align: right;\">\n",
       "      <th></th>\n",
       "      <th>Gear</th>\n",
       "      <th>tau</th>\n",
       "      <th>unit_median</th>\n",
       "      <th>unit_05</th>\n",
       "      <th>unit_95</th>\n",
       "      <th>diss_median</th>\n",
       "      <th>diss_05</th>\n",
       "      <th>diss_95</th>\n",
       "    </tr>\n",
       "  </thead>\n",
       "  <tbody>\n",
       "    <tr>\n",
       "      <th>0</th>\n",
       "      <td>Trawlers</td>\n",
       "      <td>0.5</td>\n",
       "      <td>0.451</td>\n",
       "      <td>0.182</td>\n",
       "      <td>0.922</td>\n",
       "      <td>4.24e+05</td>\n",
       "      <td>3.62e+05</td>\n",
       "      <td>4.97e+05</td>\n",
       "    </tr>\n",
       "    <tr>\n",
       "      <th>1</th>\n",
       "      <td>Trawlers</td>\n",
       "      <td>0.7</td>\n",
       "      <td>1.17</td>\n",
       "      <td>0.278</td>\n",
       "      <td>3.02</td>\n",
       "      <td>1.19e+06</td>\n",
       "      <td>1.01e+06</td>\n",
       "      <td>1.44e+06</td>\n",
       "    </tr>\n",
       "    <tr>\n",
       "      <th>2</th>\n",
       "      <td>Trawlers</td>\n",
       "      <td>0.9</td>\n",
       "      <td>5.56</td>\n",
       "      <td>0.566</td>\n",
       "      <td>24.5</td>\n",
       "      <td>6.93e+06</td>\n",
       "      <td>5.32e+06</td>\n",
       "      <td>9.77e+06</td>\n",
       "    </tr>\n",
       "    <tr>\n",
       "      <th>3</th>\n",
       "      <td>Seiners</td>\n",
       "      <td>0.5</td>\n",
       "      <td>2.94</td>\n",
       "      <td>0.223</td>\n",
       "      <td>35.5</td>\n",
       "      <td>2.2e+06</td>\n",
       "      <td>1.23e+06</td>\n",
       "      <td>4.53e+06</td>\n",
       "    </tr>\n",
       "    <tr>\n",
       "      <th>4</th>\n",
       "      <td>Seiners</td>\n",
       "      <td>0.7</td>\n",
       "      <td>10.2</td>\n",
       "      <td>0.907</td>\n",
       "      <td>78.8</td>\n",
       "      <td>6.59e+06</td>\n",
       "      <td>3.59e+06</td>\n",
       "      <td>1.44e+07</td>\n",
       "    </tr>\n",
       "    <tr>\n",
       "      <th>5</th>\n",
       "      <td>Seiners</td>\n",
       "      <td>0.9</td>\n",
       "      <td>53</td>\n",
       "      <td>4.4</td>\n",
       "      <td>594</td>\n",
       "      <td>3.91e+07</td>\n",
       "      <td>2.14e+07</td>\n",
       "      <td>8.71e+07</td>\n",
       "    </tr>\n",
       "    <tr>\n",
       "      <th>6</th>\n",
       "      <td>Longlines</td>\n",
       "      <td>0.5</td>\n",
       "      <td>7.02</td>\n",
       "      <td>2.32</td>\n",
       "      <td>27.1</td>\n",
       "      <td>4.67e+05</td>\n",
       "      <td>3.51e+05</td>\n",
       "      <td>6.78e+05</td>\n",
       "    </tr>\n",
       "    <tr>\n",
       "      <th>7</th>\n",
       "      <td>Longlines</td>\n",
       "      <td>0.7</td>\n",
       "      <td>12.7</td>\n",
       "      <td>4.28</td>\n",
       "      <td>45.3</td>\n",
       "      <td>8.13e+05</td>\n",
       "      <td>5.98e+05</td>\n",
       "      <td>1.21e+06</td>\n",
       "    </tr>\n",
       "    <tr>\n",
       "      <th>8</th>\n",
       "      <td>Longlines</td>\n",
       "      <td>0.9</td>\n",
       "      <td>38.5</td>\n",
       "      <td>15.3</td>\n",
       "      <td>105</td>\n",
       "      <td>2.19e+06</td>\n",
       "      <td>1.66e+06</td>\n",
       "      <td>3.07e+06</td>\n",
       "    </tr>\n",
       "    <tr>\n",
       "      <th>9</th>\n",
       "      <td>Set Gillnets</td>\n",
       "      <td>&lt;NA&gt;</td>\n",
       "      <td>14.9</td>\n",
       "      <td>0.502</td>\n",
       "      <td>166</td>\n",
       "      <td>3.15e+06</td>\n",
       "      <td>8.86e+05</td>\n",
       "      <td>1.56e+07</td>\n",
       "    </tr>\n",
       "    <tr>\n",
       "      <th>10</th>\n",
       "      <td>Drifting FADs</td>\n",
       "      <td>&lt;NA&gt;</td>\n",
       "      <td>1.42</td>\n",
       "      <td>0.65</td>\n",
       "      <td>2.29</td>\n",
       "      <td>2.03e+06</td>\n",
       "      <td>1.5e+06</td>\n",
       "      <td>2.64e+06</td>\n",
       "    </tr>\n",
       "  </tbody>\n",
       "</table>\n",
       "</div>"
      ],
      "text/plain": [
       "             Gear   tau unit_median unit_05 unit_95 diss_median   diss_05  \\\n",
       "0        Trawlers   0.5       0.451   0.182   0.922    4.24e+05  3.62e+05   \n",
       "1        Trawlers   0.7        1.17   0.278    3.02    1.19e+06  1.01e+06   \n",
       "2        Trawlers   0.9        5.56   0.566    24.5    6.93e+06  5.32e+06   \n",
       "3         Seiners   0.5        2.94   0.223    35.5     2.2e+06  1.23e+06   \n",
       "4         Seiners   0.7        10.2   0.907    78.8    6.59e+06  3.59e+06   \n",
       "5         Seiners   0.9          53     4.4     594    3.91e+07  2.14e+07   \n",
       "6       Longlines   0.5        7.02    2.32    27.1    4.67e+05  3.51e+05   \n",
       "7       Longlines   0.7        12.7    4.28    45.3    8.13e+05  5.98e+05   \n",
       "8       Longlines   0.9        38.5    15.3     105    2.19e+06  1.66e+06   \n",
       "9    Set Gillnets  <NA>        14.9   0.502     166    3.15e+06  8.86e+05   \n",
       "10  Drifting FADs  <NA>        1.42    0.65    2.29    2.03e+06   1.5e+06   \n",
       "\n",
       "     diss_95  \n",
       "0   4.97e+05  \n",
       "1   1.44e+06  \n",
       "2   9.77e+06  \n",
       "3   4.53e+06  \n",
       "4   1.44e+07  \n",
       "5   8.71e+07  \n",
       "6   6.78e+05  \n",
       "7   1.21e+06  \n",
       "8   3.07e+06  \n",
       "9   1.56e+07  \n",
       "10  2.64e+06  "
      ]
     },
     "execution_count": 38,
     "metadata": {},
     "output_type": "execute_result"
    }
   ],
   "source": [
    "tab3"
   ]
  },
  {
   "cell_type": "code",
   "execution_count": 39,
   "metadata": {},
   "outputs": [
    {
     "name": "stdout",
     "output_type": "stream",
     "text": [
      "\\begin{tabular}{llllllll}\n",
      "\\toprule\n",
      "          Gear &   tau & unit\\_median & unit\\_05 & unit\\_95 & diss\\_median &   diss\\_05 &   diss\\_95 \\\\\n",
      "\\midrule\n",
      "      Trawlers &   0.5 &       0.451 &   0.182 &   0.922 &    4.24e+05 &  3.62e+05 &  4.97e+05 \\\\\n",
      "      Trawlers &   0.7 &        1.17 &   0.278 &    3.02 &    1.19e+06 &  1.01e+06 &  1.44e+06 \\\\\n",
      "      Trawlers &   0.9 &        5.56 &   0.566 &    24.5 &    6.93e+06 &  5.32e+06 &  9.77e+06 \\\\\n",
      "       Seiners &   0.5 &        2.94 &   0.223 &    35.5 &     2.2e+06 &  1.23e+06 &  4.53e+06 \\\\\n",
      "       Seiners &   0.7 &        10.2 &   0.907 &    78.8 &    6.59e+06 &  3.59e+06 &  1.44e+07 \\\\\n",
      "       Seiners &   0.9 &          53 &     4.4 &     594 &    3.91e+07 &  2.14e+07 &  8.71e+07 \\\\\n",
      "     Longlines &   0.5 &        7.02 &    2.32 &    27.1 &    4.67e+05 &  3.51e+05 &  6.78e+05 \\\\\n",
      "     Longlines &   0.7 &        12.7 &    4.28 &    45.3 &    8.13e+05 &  5.98e+05 &  1.21e+06 \\\\\n",
      "     Longlines &   0.9 &        38.5 &    15.3 &     105 &    2.19e+06 &  1.66e+06 &  3.07e+06 \\\\\n",
      "  Set Gillnets &  <NA> &        14.9 &   0.502 &     166 &    3.15e+06 &  8.86e+05 &  1.56e+07 \\\\\n",
      " Drifting FADs &  <NA> &        1.42 &    0.65 &    2.29 &    2.03e+06 &   1.5e+06 &  2.64e+06 \\\\\n",
      "\\bottomrule\n",
      "\\end{tabular}\n",
      "\n"
     ]
    }
   ],
   "source": [
    "print(tab3.to_latex(index=False))"
   ]
  },
  {
   "cell_type": "code",
   "execution_count": 40,
   "metadata": {},
   "outputs": [],
   "source": [
    "tab3.to_csv(results_csv, index=False)"
   ]
  },
  {
   "cell_type": "code",
   "execution_count": 41,
   "metadata": {},
   "outputs": [
    {
     "name": "stdout",
     "output_type": "stream",
     "text": [
      "Gear,tau,unit_median,unit_05,unit_95,diss_median,diss_05,diss_95\n",
      "Trawlers,0.5,0.451,0.182,0.922,4.24e+05,3.62e+05,4.97e+05\n",
      "Trawlers,0.7,1.17,0.278,3.02,1.19e+06,1.01e+06,1.44e+06\n",
      "Trawlers,0.9,5.56,0.566,24.5,6.93e+06,5.32e+06,9.77e+06\n",
      "Seiners,0.5,2.94,0.223,35.5,2.2e+06,1.23e+06,4.53e+06\n",
      "Seiners,0.7,10.2,0.907,78.8,6.59e+06,3.59e+06,1.44e+07\n",
      "Seiners,0.9,53,4.4,594,3.91e+07,2.14e+07,8.71e+07\n",
      "Longlines,0.5,7.02,2.32,27.1,4.67e+05,3.51e+05,6.78e+05\n",
      "Longlines,0.7,12.7,4.28,45.3,8.13e+05,5.98e+05,1.21e+06\n",
      "Longlines,0.9,38.5,15.3,105,2.19e+06,1.66e+06,3.07e+06\n",
      "Set Gillnets,,14.9,0.502,166,3.15e+06,8.86e+05,1.56e+07\n",
      "Drifting FADs,,1.42,0.65,2.29,2.03e+06,1.5e+06,2.64e+06\n",
      "\n"
     ]
    }
   ],
   "source": [
    "print(tab3.to_csv(index=False))"
   ]
  },
  {
   "cell_type": "code",
   "execution_count": 42,
   "metadata": {},
   "outputs": [
    {
     "data": {
      "text/plain": [
       "tau\n",
       "NaN     5180000.0\n",
       "0.5     3091000.0\n",
       "0.7     8593000.0\n",
       "0.9    48220000.0\n",
       "dtype: float64"
      ]
     },
     "execution_count": 42,
     "metadata": {},
     "output_type": "execute_result"
    }
   ],
   "source": [
    "tab3.pivot(index='tau', columns='Gear', values='diss_median').fillna(0.0).astype(float).sum(axis=1)"
   ]
  },
  {
   "cell_type": "markdown",
   "metadata": {},
   "source": [
    "#### "
   ]
  },
  {
   "cell_type": "code",
   "execution_count": null,
   "metadata": {},
   "outputs": [],
   "source": []
  }
 ],
 "metadata": {
  "kernelspec": {
   "display_name": "tnc-gear",
   "language": "python",
   "name": "tnc-gear"
  },
  "language_info": {
   "codemirror_mode": {
    "name": "ipython",
    "version": 3
   },
   "file_extension": ".py",
   "mimetype": "text/x-python",
   "name": "python",
   "nbconvert_exporter": "python",
   "pygments_lexer": "ipython3",
   "version": "3.8.6"
  }
 },
 "nbformat": 4,
 "nbformat_minor": 4
}
