{
 "cells": [
  {
   "cell_type": "markdown",
   "metadata": {},
   "source": [
    "## Plastic gear loss estimates from remote observation of industrial fishing activity\n",
    "\n",
    "**Brandon Kuczenski,* Camila Vargas, Eric L. Gilman, Michael Musyl, Roland Geyer, Jono Wilson**\n",
    "\n",
    "`bkuczenski@ucsb.edu`\n",
    "\n",
    "Submitted to _PNAS_, 2021-04-20\n",
    "\n",
    "Derelict fishing gear is a highly visible source of marine plastic pollution, causing mortality and\n",
    "ecosystem degradation with uncertain long-term consequences. The quantity of derelict gear\n",
    "entering the oceans remains unknown because of heterogeneity in fishing gear and effort, as well\n",
    "as inadequate monitoring. Prior studies have been limited in scope to specific fisheries and\n",
    "regions, and large-scale estimates lack an empirical basis. It is critically important for decision\n",
    "makers to have credible information in order to design effective remediation efforts. We\n",
    "generated the first estimate of the amount of industrial fishing effort and the associated plastic\n",
    "debris entering the ocean from lost fishing gear. Using remote observations of fishing vessel\n",
    "activity paired with technical fishing gear models, we generated a bounding estimate for gear\n",
    "operation and loss worldwide in 2018. We estimate that industrial trawl, purse seine and pelagic\n",
    "longline fisheries operated 2.1 Mt of plastic gear over 2018 to obtain 49.7 Mt of retained and\n",
    "discarded catch, representing 74% of industrial marine capture globally. The median estimate for\n",
    "plastic gear lost during use of these gear types was 48.4 kt (95% confidence interval: 28.4-99.5\n",
    "kt). This estimate excludes abandoned and discarded gear. Improved observation, especially of\n",
    "small-scale fisheries, is needed to better understand the sources of derelict gear. These findings\n",
    "serve as a benchmark for future monitoring and management efforts to reduce derelict gear in the\n",
    "global ocean. "
   ]
  },
  {
   "cell_type": "code",
   "execution_count": 1,
   "metadata": {},
   "outputs": [
    {
     "name": "stdout",
     "output_type": "stream",
     "text": [
      "Adding path: /data/GitHub/2021/scoping-gear-losses\n"
     ]
    }
   ],
   "source": [
    "# Main Imports\n",
    "\n",
    "SUFFIX = 'demo'\n",
    "\n",
    "\n",
    "import sys\n",
    "import os\n",
    "addwd = os.path.abspath(os.path.join(os.getcwd(), '..'))\n",
    "print('Adding path: %s' % addwd)\n",
    "sys.path.append(addwd)\n",
    "\n",
    "from math import prod, log10, floor, ceil\n",
    "from statistics import median\n",
    "\n",
    "from itertools import chain\n",
    "import pandas as pd"
   ]
  },
  {
   "cell_type": "code",
   "execution_count": 2,
   "metadata": {},
   "outputs": [],
   "source": [
    "# Graphics Imports + config\n",
    "\n",
    "from matplotlib import pyplot as plt\n",
    "import seaborn as sns\n",
    "%matplotlib inline\n",
    "sns.set_style('darkgrid')\n",
    "       "
   ]
  },
  {
   "cell_type": "code",
   "execution_count": 3,
   "metadata": {},
   "outputs": [],
   "source": [
    "diss_to_ocean_fig = os.path.join(addwd,  'output', 'simulation', 'Dissipation-to-ocean_%s.pdf' % SUFFIX)\n",
    "gear_intensity_fig = os.path.join(addwd,  'output', 'simulation', 'Gear-diss-intensity-fad_%s.pdf' % SUFFIX)\n",
    "results_csv = os.path.join(addwd,  'output', 'simulation', 'gear-diss-results_%s.csv' % SUFFIX)"
   ]
  },
  {
   "cell_type": "code",
   "execution_count": 4,
   "metadata": {},
   "outputs": [],
   "source": [
    "from fishery_model import tnc_gear_loss_params, simulation_table\n",
    "\n",
    "from fishery_model.gear_loss_estimators import total_across, unit_samples, unit_diss"
   ]
  },
  {
   "cell_type": "code",
   "execution_count": 5,
   "metadata": {},
   "outputs": [
    {
     "name": "stdout",
     "output_type": "stream",
     "text": [
      "Adding catch quantity Kilowatt-hour proxy catch\n",
      "Adding catch quantity Vessel meter LOA-hour proxy catch\n",
      "Adding catch quantity Vessel gross tonnage-hour proxy catch\n",
      "Adding scaling quantity Number of FADs\n",
      "Adding effort model Fish Aggregating Devices - Tuna Purse Seine Fisheries\n",
      "Adding gear intensity model Fish Aggregating Devices - Drifting FADs\n",
      "Adding dissipation model Gilman prioritization - Drift gillnet\n",
      "Adding dissipation model Gilman prioritization - Set and fixed gillnet\n",
      "Adding dissipation model Gilman prioritization - Purse seine Non-tuna\n",
      "Adding dissipation model Gilman prioritization - Boat Seine net\n",
      "Adding dissipation model Gilman prioritization - Bottom trawl\n",
      "Adding dissipation model Gilman prioritization - Pots\n",
      "Adding dissipation model Gilman prioritization - Fyke net\n",
      "Adding dissipation model Gilman prioritization - Pound net\n",
      "Adding dissipation model Gilman prioritization - Tuna purse seine drifting FAD\n",
      "Adding dissipation model Gilman prioritization - Tuna purse seine anchored FAD\n",
      "Adding dissipation model Gilman prioritization - Pole-and-line anchored FAD\n",
      "Adding dissipation model Gilman prioritization - Pelagic longline\n",
      "Adding dissipation model Gilman prioritization - Demersal longline and trotline\n",
      "Adding dissipation model Gilman prioritization - Handline, surface, midwater and bottom\n",
      "Adding dissipation model Gilman prioritization - Troll\n",
      "Adding dissipation model Gilman prioritization - Pole-and-line\n",
      "Adding effort model Reported CPUE - Demersal set gillnets\n",
      "Adding gear intensity model Musyl Set-net model\n",
      "Adding gear intensity model Seiners - reported\n",
      "Adding dissipation model Expert Reports - Purse Seine Tuna\n",
      "Adding gear intensity model Musyl Gilman Longline outreach\n",
      "Building regression models for tau=0.5\n",
      "Generating operation-equivalency data for trawlers\n",
      "Gear type: trawlers\n",
      "  Total: N  658 catch 5.42915e+07 hours 9.06711e+07\n",
      "Yielded: N  228 catch 5.04091e+07 hours 8.71066e+07\n",
      "\n",
      "\n",
      "Generating operation-equivalency data for drifting_longlines\n",
      "Gear type: drifting_longlines\n",
      "  Total: N  544 catch 2.79078e+06 hours 3.21543e+07\n",
      "Yielded: N  216 catch 2.28373e+06 hours 2.63047e+07\n",
      "\n",
      "\n",
      "Generating operation-equivalency data for seiners\n",
      "Gear type: seiners\n",
      "  Total: N  476 catch 4.61216e+07 hours 1.70026e+07\n",
      "Yielded: N  182 catch 4.18826e+07 hours 1.44949e+07\n",
      "\n",
      "\n",
      "Building regression models for tau=0.6\n",
      "Building regression models for tau=0.7\n",
      "Building regression models for tau=0.8\n",
      "Building regression models for tau=0.9\n",
      "Gear type: set_gillnets\n",
      "year: 2018\n",
      "  Total: N  150 catch 5.40156e+06 hours 2.05812e+07\n",
      "Yielded: N   27 catch 2.73362e+06 hours 9.33169e+06\n",
      "\n",
      "\n",
      "Gear type: seiners\n",
      "year: 2018\n",
      "  Total: N  138 catch 5.42852e+06\n",
      "Yielded: N   67 catch 2.81321e+06\n",
      "\n",
      "\n",
      "Gear type: drifting_longlines\n",
      "year: 2018\n",
      "  Total: N  544 catch 2.79078e+06 hours 3.21543e+07\n",
      "Yielded: N  109 catch 1.16191e+06 hours 1.43417e+07\n",
      "\n",
      "\n",
      "Gear type: drifting_longlines\n",
      "year: 2018\n",
      "  Total: N  544 catch 2.79078e+06 hours 3.21543e+07\n",
      "Yielded: N  109 catch 1.16191e+06 hours 1.43417e+07\n",
      "\n",
      "\n",
      "Gear type: drifting_longlines\n",
      "year: 2018\n",
      "  Total: N  544 catch 2.79078e+06 hours 3.21543e+07\n",
      "Yielded: N  109 catch 1.16191e+06 hours 1.43417e+07\n",
      "\n",
      "\n",
      "Gear type: seiners\n",
      "year: 2018\n",
      "  Total: N  476 catch 4.61216e+07 hours 1.70026e+07\n",
      "Yielded: N   93 catch 2.29558e+07 hours 7.52296e+06\n",
      "\n",
      "\n",
      "Gear type: seiners\n",
      "year: 2018\n",
      "  Total: N  476 catch 4.61216e+07 hours 1.70026e+07\n",
      "Yielded: N   93 catch 2.29558e+07 hours 7.52296e+06\n",
      "\n",
      "\n",
      "Gear type: seiners\n",
      "year: 2018\n",
      "  Total: N  476 catch 4.61216e+07 hours 1.70026e+07\n",
      "Yielded: N   93 catch 2.29558e+07 hours 7.52296e+06\n",
      "\n",
      "\n",
      "Gear type: trawlers\n",
      "year: 2018\n",
      "  Total: N  658 catch 5.42915e+07 hours 9.06711e+07\n",
      "Yielded: N  113 catch 2.5533e+07 hours 4.49611e+07\n",
      "\n",
      "\n",
      "Gear type: trawlers\n",
      "year: 2018\n",
      "  Total: N  658 catch 5.42915e+07 hours 9.06711e+07\n",
      "Yielded: N  113 catch 2.5533e+07 hours 4.49611e+07\n",
      "\n",
      "\n",
      "Gear type: trawlers\n",
      "year: 2018\n",
      "  Total: N  658 catch 5.42915e+07 hours 9.06711e+07\n",
      "Yielded: N  113 catch 2.5533e+07 hours 4.49611e+07\n",
      "\n",
      "\n"
     ]
    }
   ],
   "source": [
    "study = tnc_gear_loss_params(year='2018')\n",
    "sgn = next(study.proxy_sets('set_gillnets'))\n",
    "fad = next(study.proxy_sets('FADs'))"
   ]
  },
  {
   "cell_type": "raw",
   "metadata": {},
   "source": [
    "# for estimating Korean set-gillnet catch\n",
    "from fishery_model.gear_loss_estimators import GearLossEstimators\n",
    "kor = GearLossEstimators(year='2018', iso3_code='KOR')\n",
    "sgn_kor = kor.init_proxy_set('set_gillnets')\n",
    "Gear type: set_gillnets\n",
    "year: 2018\n",
    "iso3_code: KOR\n",
    "  Total: N  150 catch 5.40156e+06 hours 2.05812e+07\n",
    "Yielded: N    1 catch 85039.1 hours 500305\n",
    "\n",
    "\n",
    "CPU times: user 438 ms, sys: 36.8 ms, total: 475 ms\n",
    "Wall time: 449 ms"
   ]
  },
  {
   "cell_type": "markdown",
   "metadata": {},
   "source": [
    "# Validation\n",
    "If desired, you can bypass this section and skip down to \"GFW Result Sets\""
   ]
  },
  {
   "cell_type": "markdown",
   "metadata": {},
   "source": [
    "## Check operating-time equivalency by gear"
   ]
  },
  {
   "cell_type": "code",
   "execution_count": 6,
   "metadata": {},
   "outputs": [],
   "source": [
    "from fishery_model.fishery import OP_EQUIV_DICT"
   ]
  },
  {
   "cell_type": "code",
   "execution_count": 7,
   "metadata": {},
   "outputs": [
    {
     "data": {
      "text/plain": [
       "{'trawlers': 837.983893997561,\n",
       " 'drifting_longlines': 1545.2308057234372,\n",
       " 'seiners': 445.21897040482594}"
      ]
     },
     "execution_count": 7,
     "metadata": {},
     "output_type": "execute_result"
    }
   ],
   "source": [
    "# number of hours per year of vessel operation, according to the GFW dataset\n",
    "{k: v['Fishing hour']/v['Year of operation'] for k, v in OP_EQUIV_DICT.items()}"
   ]
  },
  {
   "cell_type": "markdown",
   "metadata": {},
   "source": [
    "## Inspect key fishery parameters\n",
    "\n",
    "\n",
    "`res_l_5` has 109 fisheries, each of which will be sampled during each Monte Carlo iteration. For a given fishery, I should expect:\n",
    " - the effort intensity should be lognormally distributed around the mean regression result\n",
    " - the gear intensity distribution for every fishery should look the same"
   ]
  },
  {
   "cell_type": "code",
   "execution_count": 8,
   "metadata": {},
   "outputs": [],
   "source": [
    "res_l_5 = next(study.result_sets(gear='drifting_longlines', tau='0.5'))"
   ]
  },
  {
   "cell_type": "code",
   "execution_count": 9,
   "metadata": {},
   "outputs": [
    {
     "data": {
      "text/plain": [
       "True"
      ]
     },
     "execution_count": 9,
     "metadata": {},
     "output_type": "execute_result"
    }
   ],
   "source": [
    "res_l_5.N == 109"
   ]
  },
  {
   "cell_type": "code",
   "execution_count": 10,
   "metadata": {},
   "outputs": [],
   "source": [
    "r0 = res_l_5[0]"
   ]
  },
  {
   "cell_type": "code",
   "execution_count": 11,
   "metadata": {},
   "outputs": [
    {
     "data": {
      "text/plain": [
       "True"
      ]
     },
     "execution_count": 11,
     "metadata": {},
     "output_type": "execute_result"
    }
   ],
   "source": [
    "round(r0.fishery.effort_moment(res_l_5._eff), 5) == 26.72437"
   ]
  },
  {
   "cell_type": "code",
   "execution_count": 12,
   "metadata": {},
   "outputs": [
    {
     "data": {
      "text/plain": [
       "True"
      ]
     },
     "execution_count": 12,
     "metadata": {},
     "output_type": "execute_result"
    }
   ],
   "source": [
    "round(r0.fishery.catch, 5) == 103.67188"
   ]
  },
  {
   "cell_type": "code",
   "execution_count": 13,
   "metadata": {},
   "outputs": [
    {
     "name": "stdout",
     "output_type": "stream",
     "text": [
      ".\n",
      ".\n",
      ".\n",
      ".\n",
      ".\n",
      ".\n",
      ".\n",
      ".\n",
      ".\n"
     ]
    }
   ],
   "source": [
    "# Now just do a couple iteration for each GFW fishery\n",
    "study.n_gfw = 3"
   ]
  },
  {
   "cell_type": "code",
   "execution_count": 14,
   "metadata": {},
   "outputs": [
    {
     "data": {
      "text/plain": [
       "{'name': '2018-AUS-drifting_longlines-FAO 57',\n",
       " 'n_vessel': 7,\n",
       " 'model': <unit_gears.query.GearModel at 0x7ff211adbeb0>,\n",
       " 'catch': 103.67187938945597,\n",
       " 'sample': <unit_gears.query.SampleDetail at 0x7ff2118516a0>,\n",
       " 'gear': 346.34807506944367,\n",
       " 'dissipation': 14.556748980535499}"
      ]
     },
     "execution_count": 14,
     "metadata": {},
     "output_type": "execute_result"
    }
   ],
   "source": [
    "# the sample is random, but the catch should be as seen above\n",
    "r0.detail(0)"
   ]
  },
  {
   "cell_type": "code",
   "execution_count": 15,
   "metadata": {},
   "outputs": [
    {
     "data": {
      "text/plain": [
       "(26.72436844390784, 222.38141147580296)"
      ]
     },
     "execution_count": 15,
     "metadata": {},
     "output_type": "execute_result"
    }
   ],
   "source": [
    "# (26.72436844390784, 222.38141147580296)\n",
    "r0._m[0].effort.mean(r0._ep)"
   ]
  },
  {
   "cell_type": "code",
   "execution_count": 16,
   "metadata": {},
   "outputs": [
    {
     "data": {
      "text/plain": [
       "True"
      ]
     },
     "execution_count": 16,
     "metadata": {},
     "output_type": "execute_result"
    }
   ],
   "source": [
    "r0._m[0].effort is r0._m[1].effort"
   ]
  },
  {
   "cell_type": "code",
   "execution_count": 17,
   "metadata": {},
   "outputs": [
    {
     "data": {
      "text/plain": [
       "True"
      ]
     },
     "execution_count": 17,
     "metadata": {},
     "output_type": "execute_result"
    }
   ],
   "source": [
    "sgn.total_catch['One tonne landed catch'] == 2542163.3513"
   ]
  },
  {
   "cell_type": "code",
   "execution_count": 18,
   "metadata": {},
   "outputs": [],
   "source": [
    "ll = fad.models()"
   ]
  },
  {
   "cell_type": "code",
   "execution_count": 19,
   "metadata": {},
   "outputs": [
    {
     "data": {
      "text/plain": [
       "['Fish Aggregating Devices - Tuna Purse Seine Fisheries; Fish Aggregating Devices - Drifting FADs; Gilman prioritization - Tuna purse seine anchored FAD',\n",
       " 'Fish Aggregating Devices - Tuna Purse Seine Fisheries; Fish Aggregating Devices - Drifting FADs; Gilman prioritization - Tuna purse seine drifting FAD']"
      ]
     },
     "execution_count": 19,
     "metadata": {},
     "output_type": "execute_result"
    }
   ],
   "source": [
    "[str(k) for k in ll]"
   ]
  },
  {
   "cell_type": "code",
   "execution_count": 20,
   "metadata": {},
   "outputs": [
    {
     "data": {
      "text/plain": [
       "['GFW Regression, seiners, total_f_hours_tonnage, 0.5; Seiners - reported; Expert Reports - Purse Seine Tuna',\n",
       " 'GFW Regression, seiners, total_f_hours_tonnage, 0.5; Seiners - reported; Gilman prioritization - Boat Seine net',\n",
       " 'GFW Regression, seiners, total_f_hours_tonnage, 0.5; Seiners - reported; Gilman prioritization - Purse seine Non-tuna',\n",
       " 'GFW Regression, seiners, total_f_hours_tonnage, 0.5; Seiners - reported; Norway - Danish Seine - Lost to ocean',\n",
       " 'GFW Regression, seiners, total_f_hours_tonnage, 0.5; Seiners - reported; Norway - Purse Seine - Lost to ocean']"
      ]
     },
     "execution_count": 20,
     "metadata": {},
     "output_type": "execute_result"
    }
   ],
   "source": [
    "res_s_5 = next(study.result_sets(gear='seiners', tau='0.5'))\n",
    "[str(k) for k in res_s_5.models()]"
   ]
  },
  {
   "cell_type": "code",
   "execution_count": 21,
   "metadata": {},
   "outputs": [
    {
     "data": {
      "text/plain": [
       "'y ~ 10 ** 0:1.27 N;1:0.000604 N (x)'"
      ]
     },
     "execution_count": 21,
     "metadata": {},
     "output_type": "execute_result"
    }
   ],
   "source": [
    "# 'y ~ 10 ** 0:1.27 N;1:0.000604 N (x)'\n",
    "str(res_s_5[0]._m[3].effort._model)"
   ]
  },
  {
   "cell_type": "code",
   "execution_count": 22,
   "metadata": {},
   "outputs": [],
   "source": [
    "# unit tests\n",
    "res_s_9 = next(study.result_sets(gear='seiners', tau='0.9'))\n",
    "assert round(res_s_9[0].fishery.effort_moment(res_s_5._eff), 2) == 318.88\n",
    "assert res_s_9[0].fishery.name == '2018-AGO-seiners-FAO 47'\n",
    "assert str(res_s_5[0]._m[3].effort._model) == 'y ~ 10 ** 0:1.27 N;1:0.000604 N (x)'  # was 'y ~ 10 ** 0:1.52 N;1:0.000672 (x)"
   ]
  },
  {
   "cell_type": "code",
   "execution_count": 23,
   "metadata": {},
   "outputs": [
    {
     "data": {
      "text/plain": [
       "True"
      ]
     },
     "execution_count": 23,
     "metadata": {},
     "output_type": "execute_result"
    }
   ],
   "source": [
    "round(next(study.result_sets(gear='seiners')).total_catch['One tonne capture']) == 22955837"
   ]
  },
  {
   "cell_type": "code",
   "execution_count": 24,
   "metadata": {},
   "outputs": [
    {
     "data": {
      "text/plain": [
       "True"
      ]
     },
     "execution_count": 24,
     "metadata": {},
     "output_type": "execute_result"
    }
   ],
   "source": [
    "round(next(study.result_sets(gear='trawlers')).total_catch['One tonne capture']) == 25532964"
   ]
  },
  {
   "cell_type": "code",
   "execution_count": 25,
   "metadata": {},
   "outputs": [
    {
     "data": {
      "text/plain": [
       "0.5407507399198972"
      ]
     },
     "execution_count": 25,
     "metadata": {},
     "output_type": "execute_result"
    }
   ],
   "source": [
    "# percent of global capture that has been matched to GFW fisheries\n",
    "sum(k.total_catch['One tonne capture'] for k in study.result_sets(tau='0.9'))/91818107\n"
   ]
  },
  {
   "cell_type": "markdown",
   "metadata": {},
   "source": [
    "# Run Simulations\n",
    "First do the proxy systems because they are faster."
   ]
  },
  {
   "cell_type": "code",
   "execution_count": 26,
   "metadata": {},
   "outputs": [
    {
     "name": "stdout",
     "output_type": "stream",
     "text": [
      ".\n",
      ".\n"
     ]
    }
   ],
   "source": [
    "## Set Gillnets\n",
    "# this one takes about 10 sec to run the gillnet simulation and about 30 sec for PS FADs\n",
    "\n",
    "study.n_prox = 2000"
   ]
  },
  {
   "cell_type": "code",
   "execution_count": 27,
   "metadata": {},
   "outputs": [
    {
     "data": {
      "text/plain": [
       "<AxesSubplot:ylabel='Count'>"
      ]
     },
     "execution_count": 27,
     "metadata": {},
     "output_type": "execute_result"
    },
    {
     "data": {
      "image/png": "[encoded data removed]",
      "text/plain": [
       "<Figure size 432x288 with 1 Axes>"
      ]
     },
     "metadata": {},
     "output_type": "display_data"
    }
   ],
   "source": [
    "sns.histplot({'sgn': total_across(sgn)}, element='poly', log_scale=True, bins=100)"
   ]
  },
  {
   "cell_type": "code",
   "execution_count": 28,
   "metadata": {},
   "outputs": [
    {
     "data": {
      "text/plain": [
       "<AxesSubplot:ylabel='Count'>"
      ]
     },
     "execution_count": 28,
     "metadata": {},
     "output_type": "execute_result"
    },
    {
     "data": {
      "image/png": "[encoded data removed]",
      "text/plain": [
       "<Figure size 432x288 with 1 Axes>"
      ]
     },
     "metadata": {},
     "output_type": "display_data"
    }
   ],
   "source": [
    "sns.histplot({'dfad': total_across(fad)}, element='step', log_scale=True, bins=100)"
   ]
  },
  {
   "cell_type": "code",
   "execution_count": 29,
   "metadata": {},
   "outputs": [
    {
     "name": "stdout",
     "output_type": "stream",
     "text": [
      ".\n",
      ".\n",
      ".\n",
      ".\n",
      ".\n",
      ".\n",
      ".\n",
      ".\n",
      ".\n"
     ]
    }
   ],
   "source": [
    "study.n_gfw = 500  # takes ~2 minutes - run the first 500 iterations for GFW result sets"
   ]
  },
  {
   "cell_type": "code",
   "execution_count": 30,
   "metadata": {},
   "outputs": [
    {
     "data": {
      "text/plain": [
       "<AxesSubplot:ylabel='Count'>"
      ]
     },
     "execution_count": 30,
     "metadata": {},
     "output_type": "execute_result"
    },
    {
     "data": {
      "image/png": "[encoded data removed]",
      "text/plain": [
       "<Figure size 432x288 with 1 Axes>"
      ]
     },
     "metadata": {},
     "output_type": "display_data"
    }
   ],
   "source": [
    "# this is the combined unit dissipation rate for one fishery\n",
    "sns.histplot(list(res_l_5[0].samples), log_scale=True)"
   ]
  },
  {
   "cell_type": "markdown",
   "metadata": {},
   "source": [
    "### Gear Intensity\n",
    "The following 3 charts should all look roughly (probabilistically) the same -- all fisheries use the same\n",
    "gear intensity model."
   ]
  },
  {
   "cell_type": "code",
   "execution_count": 31,
   "metadata": {},
   "outputs": [
    {
     "data": {
      "text/plain": [
       "<AxesSubplot:ylabel='Count'>"
      ]
     },
     "execution_count": 31,
     "metadata": {},
     "output_type": "execute_result"
    },
    {
     "data": {
      "image/png": "[encoded data removed]",
      "text/plain": [
       "<Figure size 432x288 with 1 Axes>"
      ]
     },
     "metadata": {},
     "output_type": "display_data"
    }
   ],
   "source": [
    "sns.histplot([res_l_5[0].detail(k)['sample'].gear for k in range(r0.n)], log_scale=False, element='step')"
   ]
  },
  {
   "cell_type": "code",
   "execution_count": 32,
   "metadata": {},
   "outputs": [
    {
     "data": {
      "text/plain": [
       "<AxesSubplot:ylabel='Count'>"
      ]
     },
     "execution_count": 32,
     "metadata": {},
     "output_type": "execute_result"
    },
    {
     "data": {
      "image/png": "[encoded data removed]",
      "text/plain": [
       "<Figure size 432x288 with 1 Axes>"
      ]
     },
     "metadata": {},
     "output_type": "display_data"
    }
   ],
   "source": [
    "sns.histplot([res_l_5[1].detail(k)['sample'].gear for k in range(r0.n)], log_scale=False, element='step')"
   ]
  },
  {
   "cell_type": "code",
   "execution_count": 33,
   "metadata": {},
   "outputs": [
    {
     "data": {
      "text/plain": [
       "<AxesSubplot:ylabel='Count'>"
      ]
     },
     "execution_count": 33,
     "metadata": {},
     "output_type": "execute_result"
    },
    {
     "data": {
      "image/png": "[encoded data removed]",
      "text/plain": [
       "<Figure size 432x288 with 1 Axes>"
      ]
     },
     "metadata": {},
     "output_type": "display_data"
    }
   ],
   "source": [
    "sns.histplot([res_l_5[2].detail(k)['sample'].gear for k in range(r0.n)], log_scale=False, element='step')"
   ]
  },
  {
   "cell_type": "code",
   "execution_count": null,
   "metadata": {},
   "outputs": [],
   "source": []
  },
  {
   "cell_type": "code",
   "execution_count": null,
   "metadata": {},
   "outputs": [],
   "source": []
  },
  {
   "cell_type": "code",
   "execution_count": null,
   "metadata": {},
   "outputs": [],
   "source": []
  },
  {
   "cell_type": "code",
   "execution_count": null,
   "metadata": {},
   "outputs": [],
   "source": []
  },
  {
   "cell_type": "code",
   "execution_count": null,
   "metadata": {},
   "outputs": [],
   "source": []
  },
  {
   "cell_type": "markdown",
   "metadata": {},
   "source": [
    "# GFW Result Sets"
   ]
  },
  {
   "cell_type": "code",
   "execution_count": 34,
   "metadata": {},
   "outputs": [
    {
     "name": "stdout",
     "output_type": "stream",
     "text": [
      ".\n",
      ".\n",
      ".\n",
      ".\n",
      ".\n",
      ".\n",
      ".\n",
      ".\n",
      ".\n",
      "CPU times: user 9min 4s, sys: 2.88 s, total: 9min 7s\n",
      "Wall time: 9min 10s\n",
      ".\n",
      ".\n",
      "CPU times: user 17.2 s, sys: 128 ms, total: 17.3 s\n",
      "Wall time: 17.5 s\n"
     ]
    }
   ],
   "source": [
    "### Continuation-- upsample to n=3000 -- 10-15 min, depending on whether you already ran the first n=500\n",
    "\n",
    "%time study.n_gfw = 3000\n",
    "%time study.n_prox = 3000"
   ]
  },
  {
   "cell_type": "markdown",
   "metadata": {},
   "source": [
    "## Total Results\n",
    "4-facet plot\n",
    "\n",
    "This sums the ith random sample across all fisheries to compute total gear use / plastic flows for that simulation.\n",
    "\n",
    "tau represents the quantile regression fit parameter. The effort intensity model is applied as a first order filter with normal uncertainty on the y-intercept,  but with the slope being static for numerical stability."
   ]
  },
  {
   "cell_type": "code",
   "execution_count": 35,
   "metadata": {},
   "outputs": [],
   "source": [
    "from fishery_model.simulation_plots import total_dissipation_fig, intensity_fig"
   ]
  },
  {
   "cell_type": "code",
   "execution_count": 36,
   "metadata": {},
   "outputs": [
    {
     "name": "stdout",
     "output_type": "stream",
     "text": [
      "[239209.0744302151, 603517688.6489893]\n"
     ]
    },
    {
     "data": {
      "image/png": "[encoded data removed]",
      "text/plain": [
       "<Figure size 576x432 with 5 Axes>"
      ]
     },
     "metadata": {},
     "output_type": "display_data"
    }
   ],
   "source": [
    "f = total_dissipation_fig(study)\n",
    "plt.savefig(diss_to_ocean_fig, bbox_inches='tight')"
   ]
  },
  {
   "cell_type": "code",
   "execution_count": 89,
   "metadata": {},
   "outputs": [
    {
     "name": "stdout",
     "output_type": "stream",
     "text": [
      "[3214430.4545159074, 3675682219.553516]\n",
      "[211431.0044699111, 403489659.11782753]\n"
     ]
    },
    {
     "data": {
      "image/png": "[encoded data removed]",
      "text/plain": [
       "<Figure size 864x540 with 10 Axes>"
      ]
     },
     "metadata": {},
     "output_type": "display_data"
    }
   ],
   "source": [
    "f = dissipation_w_op_fig(study)\n",
    "plt.savefig('diss_w_op.pdf', bbox_inches='tight')"
   ]
  },
  {
   "cell_type": "markdown",
   "metadata": {},
   "source": [
    "## Unit Catch Basis\n",
    "We actually have 4 different possible plots (times 3 different gears):\n",
    " - gear use per tonne of catch [per year]\n",
    " - gear use per vessel per year\n",
    " - dissipation per tonne of catch\n",
    " - dissipation per vessel\n",
    " \n",
    "Let's get each individual one working and then try a couple of different ways to overlay them.\n",
    "\n",
    "This could be a 2/3 page figure with 6, 9, or 12 panes.\n",
    "\n"
   ]
  },
  {
   "cell_type": "markdown",
   "metadata": {},
   "source": [
    "This is just going to be unit basis of fig4\n",
    "\n",
    "so it will be a stack of 3 axes- why not a seaborn style? bc I haven't gotten it to work\n",
    "but "
   ]
  },
  {
   "cell_type": "code",
   "execution_count": 38,
   "metadata": {},
   "outputs": [
    {
     "name": "stdout",
     "output_type": "stream",
     "text": [
      "[0.0005886557345251166, 279001.7191968541]\n",
      "[4.29934196868274e-06, 11428.753979984489]\n"
     ]
    },
    {
     "data": {
      "image/png": "[encoded data removed]",
      "text/plain": [
       "<Figure size 864x540 with 10 Axes>"
      ]
     },
     "metadata": {},
     "output_type": "display_data"
    }
   ],
   "source": [
    "f = intensity_fig(study)\n",
    "plt.savefig(gear_intensity_fig, bbox_inches='tight')"
   ]
  },
  {
   "cell_type": "code",
   "execution_count": 92,
   "metadata": {},
   "outputs": [],
   "source": [
    "    udll = pd.DataFrame({'tau %s' % k.tau: unit_diss(k) for k in study.result_sets(gear='drifting_longlines')})\n",
    "    udtw = pd.DataFrame({'tau %s' % k.tau: unit_diss(k) for k in study.result_sets(gear='trawlers')})\n",
    "    udsn = pd.DataFrame({'tau %s' % k.tau: unit_diss(k) for k in study.result_sets(gear='seiners')})\n",
    "\n",
    "    usll = pd.DataFrame({'tau %s' % k.tau: unit_samples(k) for k in study.result_sets(gear='drifting_longlines')})\n",
    "    ustw = pd.DataFrame({'tau %s' % k.tau: unit_samples(k) for k in study.result_sets(gear='trawlers')})\n",
    "    ussn = pd.DataFrame({'tau %s' % k.tau: unit_samples(k) for k in study.result_sets(gear='seiners')})\n",
    "\n"
   ]
  },
  {
   "cell_type": "code",
   "execution_count": 39,
   "metadata": {},
   "outputs": [
    {
     "data": {
      "text/html": [
       "<div>\n",
       "<style scoped>\n",
       "    .dataframe tbody tr th:only-of-type {\n",
       "        vertical-align: middle;\n",
       "    }\n",
       "\n",
       "    .dataframe tbody tr th {\n",
       "        vertical-align: top;\n",
       "    }\n",
       "\n",
       "    .dataframe thead th {\n",
       "        text-align: right;\n",
       "    }\n",
       "</style>\n",
       "<table border=\"1\" class=\"dataframe\">\n",
       "  <thead>\n",
       "    <tr style=\"text-align: right;\">\n",
       "      <th></th>\n",
       "      <th>Gear</th>\n",
       "      <th>tau</th>\n",
       "      <th>unit_median</th>\n",
       "      <th>unit_05</th>\n",
       "      <th>unit_95</th>\n",
       "      <th>oper_median</th>\n",
       "      <th>oper_05</th>\n",
       "      <th>oper_95</th>\n",
       "      <th>diss_median</th>\n",
       "      <th>diss_05</th>\n",
       "      <th>diss_95</th>\n",
       "    </tr>\n",
       "  </thead>\n",
       "  <tbody>\n",
       "    <tr>\n",
       "      <th>0</th>\n",
       "      <td>Trawlers</td>\n",
       "      <td>0.5</td>\n",
       "      <td>0.451</td>\n",
       "      <td>0.182</td>\n",
       "      <td>0.921</td>\n",
       "      <td>1.27e+07</td>\n",
       "      <td>1.11e+07</td>\n",
       "      <td>1.5e+07</td>\n",
       "      <td>4.24e+05</td>\n",
       "      <td>3.64e+05</td>\n",
       "      <td>5.01e+05</td>\n",
       "    </tr>\n",
       "    <tr>\n",
       "      <th>1</th>\n",
       "      <td>Trawlers</td>\n",
       "      <td>0.7</td>\n",
       "      <td>1.17</td>\n",
       "      <td>0.281</td>\n",
       "      <td>3.01</td>\n",
       "      <td>3.56e+07</td>\n",
       "      <td>3.07e+07</td>\n",
       "      <td>4.13e+07</td>\n",
       "      <td>1.18e+06</td>\n",
       "      <td>1e+06</td>\n",
       "      <td>1.42e+06</td>\n",
       "    </tr>\n",
       "    <tr>\n",
       "      <th>2</th>\n",
       "      <td>Trawlers</td>\n",
       "      <td>0.9</td>\n",
       "      <td>5.55</td>\n",
       "      <td>0.566</td>\n",
       "      <td>24.6</td>\n",
       "      <td>2.07e+08</td>\n",
       "      <td>1.52e+08</td>\n",
       "      <td>2.82e+08</td>\n",
       "      <td>6.96e+06</td>\n",
       "      <td>5.26e+06</td>\n",
       "      <td>9.94e+06</td>\n",
       "    </tr>\n",
       "    <tr>\n",
       "      <th>3</th>\n",
       "      <td>Seiners</td>\n",
       "      <td>0.5</td>\n",
       "      <td>2.94</td>\n",
       "      <td>0.221</td>\n",
       "      <td>35.4</td>\n",
       "      <td>1e+08</td>\n",
       "      <td>6.26e+07</td>\n",
       "      <td>1.59e+08</td>\n",
       "      <td>2.14e+06</td>\n",
       "      <td>1.17e+06</td>\n",
       "      <td>4.51e+06</td>\n",
       "    </tr>\n",
       "    <tr>\n",
       "      <th>4</th>\n",
       "      <td>Seiners</td>\n",
       "      <td>0.7</td>\n",
       "      <td>10.2</td>\n",
       "      <td>0.918</td>\n",
       "      <td>77.6</td>\n",
       "      <td>2.78e+08</td>\n",
       "      <td>1.91e+08</td>\n",
       "      <td>4.46e+08</td>\n",
       "      <td>6.46e+06</td>\n",
       "      <td>3.65e+06</td>\n",
       "      <td>1.53e+07</td>\n",
       "    </tr>\n",
       "    <tr>\n",
       "      <th>5</th>\n",
       "      <td>Seiners</td>\n",
       "      <td>0.9</td>\n",
       "      <td>52.9</td>\n",
       "      <td>4.4</td>\n",
       "      <td>594</td>\n",
       "      <td>1.75e+09</td>\n",
       "      <td>1.22e+09</td>\n",
       "      <td>2.82e+09</td>\n",
       "      <td>3.93e+07</td>\n",
       "      <td>2.14e+07</td>\n",
       "      <td>8.76e+07</td>\n",
       "    </tr>\n",
       "    <tr>\n",
       "      <th>6</th>\n",
       "      <td>Longlines</td>\n",
       "      <td>0.5</td>\n",
       "      <td>7.02</td>\n",
       "      <td>2.32</td>\n",
       "      <td>27.1</td>\n",
       "      <td>1.16e+07</td>\n",
       "      <td>8.82e+06</td>\n",
       "      <td>1.54e+07</td>\n",
       "      <td>4.72e+05</td>\n",
       "      <td>3.5e+05</td>\n",
       "      <td>6.74e+05</td>\n",
       "    </tr>\n",
       "    <tr>\n",
       "      <th>7</th>\n",
       "      <td>Longlines</td>\n",
       "      <td>0.7</td>\n",
       "      <td>12.7</td>\n",
       "      <td>4.27</td>\n",
       "      <td>45.1</td>\n",
       "      <td>2.13e+07</td>\n",
       "      <td>1.58e+07</td>\n",
       "      <td>3.3e+07</td>\n",
       "      <td>8.17e+05</td>\n",
       "      <td>5.96e+05</td>\n",
       "      <td>1.2e+06</td>\n",
       "    </tr>\n",
       "    <tr>\n",
       "      <th>8</th>\n",
       "      <td>Longlines</td>\n",
       "      <td>0.9</td>\n",
       "      <td>38.5</td>\n",
       "      <td>15.3</td>\n",
       "      <td>105</td>\n",
       "      <td>5.45e+07</td>\n",
       "      <td>4.2e+07</td>\n",
       "      <td>7.32e+07</td>\n",
       "      <td>2.18e+06</td>\n",
       "      <td>1.67e+06</td>\n",
       "      <td>3.11e+06</td>\n",
       "    </tr>\n",
       "    <tr>\n",
       "      <th>9</th>\n",
       "      <td>Set Gillnets</td>\n",
       "      <td>&lt;NA&gt;</td>\n",
       "      <td>14.6</td>\n",
       "      <td>0.502</td>\n",
       "      <td>165</td>\n",
       "      <td>7.88e+07</td>\n",
       "      <td>2.52e+07</td>\n",
       "      <td>3.36e+08</td>\n",
       "      <td>3.02e+06</td>\n",
       "      <td>8.88e+05</td>\n",
       "      <td>1.54e+07</td>\n",
       "    </tr>\n",
       "    <tr>\n",
       "      <th>10</th>\n",
       "      <td>Drifting FADs</td>\n",
       "      <td>&lt;NA&gt;</td>\n",
       "      <td>1.41</td>\n",
       "      <td>0.652</td>\n",
       "      <td>2.29</td>\n",
       "      <td>4.03e+06</td>\n",
       "      <td>3.42e+06</td>\n",
       "      <td>4.73e+06</td>\n",
       "      <td>2.03e+06</td>\n",
       "      <td>1.5e+06</td>\n",
       "      <td>2.64e+06</td>\n",
       "    </tr>\n",
       "  </tbody>\n",
       "</table>\n",
       "</div>"
      ],
      "text/plain": [
       "             Gear   tau unit_median unit_05 unit_95 oper_median   oper_05  \\\n",
       "0        Trawlers   0.5       0.451   0.182   0.921    1.27e+07  1.11e+07   \n",
       "1        Trawlers   0.7        1.17   0.281    3.01    3.56e+07  3.07e+07   \n",
       "2        Trawlers   0.9        5.55   0.566    24.6    2.07e+08  1.52e+08   \n",
       "3         Seiners   0.5        2.94   0.221    35.4       1e+08  6.26e+07   \n",
       "4         Seiners   0.7        10.2   0.918    77.6    2.78e+08  1.91e+08   \n",
       "5         Seiners   0.9        52.9     4.4     594    1.75e+09  1.22e+09   \n",
       "6       Longlines   0.5        7.02    2.32    27.1    1.16e+07  8.82e+06   \n",
       "7       Longlines   0.7        12.7    4.27    45.1    2.13e+07  1.58e+07   \n",
       "8       Longlines   0.9        38.5    15.3     105    5.45e+07   4.2e+07   \n",
       "9    Set Gillnets  <NA>        14.6   0.502     165    7.88e+07  2.52e+07   \n",
       "10  Drifting FADs  <NA>        1.41   0.652    2.29    4.03e+06  3.42e+06   \n",
       "\n",
       "     oper_95 diss_median   diss_05   diss_95  \n",
       "0    1.5e+07    4.24e+05  3.64e+05  5.01e+05  \n",
       "1   4.13e+07    1.18e+06     1e+06  1.42e+06  \n",
       "2   2.82e+08    6.96e+06  5.26e+06  9.94e+06  \n",
       "3   1.59e+08    2.14e+06  1.17e+06  4.51e+06  \n",
       "4   4.46e+08    6.46e+06  3.65e+06  1.53e+07  \n",
       "5   2.82e+09    3.93e+07  2.14e+07  8.76e+07  \n",
       "6   1.54e+07    4.72e+05   3.5e+05  6.74e+05  \n",
       "7    3.3e+07    8.17e+05  5.96e+05   1.2e+06  \n",
       "8   7.32e+07    2.18e+06  1.67e+06  3.11e+06  \n",
       "9   3.36e+08    3.02e+06  8.88e+05  1.54e+07  \n",
       "10  4.73e+06    2.03e+06   1.5e+06  2.64e+06  "
      ]
     },
     "execution_count": 39,
     "metadata": {},
     "output_type": "execute_result"
    }
   ],
   "source": [
    "tab3o = simulation_table(study)\n",
    "tab3o"
   ]
  },
  {
   "cell_type": "code",
   "execution_count": 40,
   "metadata": {},
   "outputs": [
    {
     "name": "stdout",
     "output_type": "stream",
     "text": [
      "\\begin{tabular}{lllllllllll}\n",
      "\\toprule\n",
      "         Gear &  tau & unit\\_median & unit\\_05 & unit\\_95 & oper\\_median &  oper\\_05 &  oper\\_95 & diss\\_median &  diss\\_05 &  diss\\_95 \\\\\n",
      "\\midrule\n",
      "     Trawlers &  0.5 &       0.451 &   0.182 &   0.921 &    1.27e+07 & 1.11e+07 &  1.5e+07 &    4.24e+05 & 3.64e+05 & 5.01e+05 \\\\\n",
      "     Trawlers &  0.7 &        1.17 &   0.281 &    3.01 &    3.56e+07 & 3.07e+07 & 4.13e+07 &    1.18e+06 &    1e+06 & 1.42e+06 \\\\\n",
      "     Trawlers &  0.9 &        5.55 &   0.566 &    24.6 &    2.07e+08 & 1.52e+08 & 2.82e+08 &    6.96e+06 & 5.26e+06 & 9.94e+06 \\\\\n",
      "      Seiners &  0.5 &        2.94 &   0.221 &    35.4 &       1e+08 & 6.26e+07 & 1.59e+08 &    2.14e+06 & 1.17e+06 & 4.51e+06 \\\\\n",
      "      Seiners &  0.7 &        10.2 &   0.918 &    77.6 &    2.78e+08 & 1.91e+08 & 4.46e+08 &    6.46e+06 & 3.65e+06 & 1.53e+07 \\\\\n",
      "      Seiners &  0.9 &        52.9 &     4.4 &     594 &    1.75e+09 & 1.22e+09 & 2.82e+09 &    3.93e+07 & 2.14e+07 & 8.76e+07 \\\\\n",
      "    Longlines &  0.5 &        7.02 &    2.32 &    27.1 &    1.16e+07 & 8.82e+06 & 1.54e+07 &    4.72e+05 &  3.5e+05 & 6.74e+05 \\\\\n",
      "    Longlines &  0.7 &        12.7 &    4.27 &    45.1 &    2.13e+07 & 1.58e+07 &  3.3e+07 &    8.17e+05 & 5.96e+05 &  1.2e+06 \\\\\n",
      "    Longlines &  0.9 &        38.5 &    15.3 &     105 &    5.45e+07 &  4.2e+07 & 7.32e+07 &    2.18e+06 & 1.67e+06 & 3.11e+06 \\\\\n",
      " Set Gillnets & <NA> &        14.6 &   0.502 &     165 &    7.88e+07 & 2.52e+07 & 3.36e+08 &    3.02e+06 & 8.88e+05 & 1.54e+07 \\\\\n",
      "Drifting FADs & <NA> &        1.41 &   0.652 &    2.29 &    4.03e+06 & 3.42e+06 & 4.73e+06 &    2.03e+06 &  1.5e+06 & 2.64e+06 \\\\\n",
      "\\bottomrule\n",
      "\\end{tabular}\n",
      "\n"
     ]
    }
   ],
   "source": [
    "print(tab3o.to_latex(index=False))"
   ]
  },
  {
   "cell_type": "code",
   "execution_count": 41,
   "metadata": {},
   "outputs": [
    {
     "name": "stdout",
     "output_type": "stream",
     "text": [
      "Gear,tau,unit_median,unit_05,unit_95,oper_median,oper_05,oper_95,diss_median,diss_05,diss_95\n",
      "Trawlers,0.5,0.451,0.182,0.921,1.27e+07,1.11e+07,1.5e+07,4.24e+05,3.64e+05,5.01e+05\n",
      "Trawlers,0.7,1.17,0.281,3.01,3.56e+07,3.07e+07,4.13e+07,1.18e+06,1e+06,1.42e+06\n",
      "Trawlers,0.9,5.55,0.566,24.6,2.07e+08,1.52e+08,2.82e+08,6.96e+06,5.26e+06,9.94e+06\n",
      "Seiners,0.5,2.94,0.221,35.4,1e+08,6.26e+07,1.59e+08,2.14e+06,1.17e+06,4.51e+06\n",
      "Seiners,0.7,10.2,0.918,77.6,2.78e+08,1.91e+08,4.46e+08,6.46e+06,3.65e+06,1.53e+07\n",
      "Seiners,0.9,52.9,4.4,594,1.75e+09,1.22e+09,2.82e+09,3.93e+07,2.14e+07,8.76e+07\n",
      "Longlines,0.5,7.02,2.32,27.1,1.16e+07,8.82e+06,1.54e+07,4.72e+05,3.5e+05,6.74e+05\n",
      "Longlines,0.7,12.7,4.27,45.1,2.13e+07,1.58e+07,3.3e+07,8.17e+05,5.96e+05,1.2e+06\n",
      "Longlines,0.9,38.5,15.3,105,5.45e+07,4.2e+07,7.32e+07,2.18e+06,1.67e+06,3.11e+06\n",
      "Set Gillnets,,14.6,0.502,165,7.88e+07,2.52e+07,3.36e+08,3.02e+06,8.88e+05,1.54e+07\n",
      "Drifting FADs,,1.41,0.652,2.29,4.03e+06,3.42e+06,4.73e+06,2.03e+06,1.5e+06,2.64e+06\n",
      "\n"
     ]
    }
   ],
   "source": [
    "tab3o.to_csv(results_csv, index=False)\n",
    "print(tab3o.to_csv(index=False))"
   ]
  },
  {
   "cell_type": "code",
   "execution_count": 42,
   "metadata": {},
   "outputs": [
    {
     "data": {
      "text/plain": [
       "tau\n",
       "NaN     5050000.0\n",
       "0.5     3036000.0\n",
       "0.7     8457000.0\n",
       "0.9    48440000.0\n",
       "dtype: float64"
      ]
     },
     "execution_count": 42,
     "metadata": {},
     "output_type": "execute_result"
    }
   ],
   "source": [
    "tab3o.pivot(index='tau', columns='Gear', values='diss_median').fillna(0.0).astype(float).sum(axis=1)"
   ]
  },
  {
   "cell_type": "code",
   "execution_count": 43,
   "metadata": {},
   "outputs": [
    {
     "data": {
      "text/plain": [
       "tau\n",
       "NaN    8.283000e+07\n",
       "0.5    1.243000e+08\n",
       "0.7    3.349000e+08\n",
       "0.9    2.011500e+09\n",
       "dtype: float64"
      ]
     },
     "execution_count": 43,
     "metadata": {},
     "output_type": "execute_result"
    }
   ],
   "source": [
    "tab3o.pivot(index='tau', columns='Gear', values='oper_median').fillna(0.0).astype(float).sum(axis=1)"
   ]
  },
  {
   "cell_type": "code",
   "execution_count": null,
   "metadata": {},
   "outputs": [],
   "source": [
    "# takes roughly 20 s, again for unit_samples and total_across\n",
    "from fishery_model import simulation_table\n",
    "tab3 = simulation_table(study)"
   ]
  },
  {
   "cell_type": "code",
   "execution_count": 38,
   "metadata": {},
   "outputs": [
    {
     "data": {
      "text/html": [
       "<div>\n",
       "<style scoped>\n",
       "    .dataframe tbody tr th:only-of-type {\n",
       "        vertical-align: middle;\n",
       "    }\n",
       "\n",
       "    .dataframe tbody tr th {\n",
       "        vertical-align: top;\n",
       "    }\n",
       "\n",
       "    .dataframe thead th {\n",
       "        text-align: right;\n",
       "    }\n",
       "</style>\n",
       "<table border=\"1\" class=\"dataframe\">\n",
       "  <thead>\n",
       "    <tr style=\"text-align: right;\">\n",
       "      <th></th>\n",
       "      <th>Gear</th>\n",
       "      <th>tau</th>\n",
       "      <th>unit_median</th>\n",
       "      <th>unit_05</th>\n",
       "      <th>unit_95</th>\n",
       "      <th>diss_median</th>\n",
       "      <th>diss_05</th>\n",
       "      <th>diss_95</th>\n",
       "    </tr>\n",
       "  </thead>\n",
       "  <tbody>\n",
       "    <tr>\n",
       "      <th>0</th>\n",
       "      <td>Trawlers</td>\n",
       "      <td>0.5</td>\n",
       "      <td>0.451</td>\n",
       "      <td>0.182</td>\n",
       "      <td>0.922</td>\n",
       "      <td>4.24e+05</td>\n",
       "      <td>3.62e+05</td>\n",
       "      <td>4.97e+05</td>\n",
       "    </tr>\n",
       "    <tr>\n",
       "      <th>1</th>\n",
       "      <td>Trawlers</td>\n",
       "      <td>0.7</td>\n",
       "      <td>1.17</td>\n",
       "      <td>0.278</td>\n",
       "      <td>3.02</td>\n",
       "      <td>1.19e+06</td>\n",
       "      <td>1.01e+06</td>\n",
       "      <td>1.44e+06</td>\n",
       "    </tr>\n",
       "    <tr>\n",
       "      <th>2</th>\n",
       "      <td>Trawlers</td>\n",
       "      <td>0.9</td>\n",
       "      <td>5.56</td>\n",
       "      <td>0.566</td>\n",
       "      <td>24.5</td>\n",
       "      <td>6.93e+06</td>\n",
       "      <td>5.32e+06</td>\n",
       "      <td>9.77e+06</td>\n",
       "    </tr>\n",
       "    <tr>\n",
       "      <th>3</th>\n",
       "      <td>Seiners</td>\n",
       "      <td>0.5</td>\n",
       "      <td>2.94</td>\n",
       "      <td>0.223</td>\n",
       "      <td>35.5</td>\n",
       "      <td>2.2e+06</td>\n",
       "      <td>1.23e+06</td>\n",
       "      <td>4.53e+06</td>\n",
       "    </tr>\n",
       "    <tr>\n",
       "      <th>4</th>\n",
       "      <td>Seiners</td>\n",
       "      <td>0.7</td>\n",
       "      <td>10.2</td>\n",
       "      <td>0.907</td>\n",
       "      <td>78.8</td>\n",
       "      <td>6.59e+06</td>\n",
       "      <td>3.59e+06</td>\n",
       "      <td>1.44e+07</td>\n",
       "    </tr>\n",
       "    <tr>\n",
       "      <th>5</th>\n",
       "      <td>Seiners</td>\n",
       "      <td>0.9</td>\n",
       "      <td>53</td>\n",
       "      <td>4.4</td>\n",
       "      <td>594</td>\n",
       "      <td>3.91e+07</td>\n",
       "      <td>2.14e+07</td>\n",
       "      <td>8.71e+07</td>\n",
       "    </tr>\n",
       "    <tr>\n",
       "      <th>6</th>\n",
       "      <td>Longlines</td>\n",
       "      <td>0.5</td>\n",
       "      <td>7.02</td>\n",
       "      <td>2.32</td>\n",
       "      <td>27.1</td>\n",
       "      <td>4.67e+05</td>\n",
       "      <td>3.51e+05</td>\n",
       "      <td>6.78e+05</td>\n",
       "    </tr>\n",
       "    <tr>\n",
       "      <th>7</th>\n",
       "      <td>Longlines</td>\n",
       "      <td>0.7</td>\n",
       "      <td>12.7</td>\n",
       "      <td>4.28</td>\n",
       "      <td>45.3</td>\n",
       "      <td>8.13e+05</td>\n",
       "      <td>5.98e+05</td>\n",
       "      <td>1.21e+06</td>\n",
       "    </tr>\n",
       "    <tr>\n",
       "      <th>8</th>\n",
       "      <td>Longlines</td>\n",
       "      <td>0.9</td>\n",
       "      <td>38.5</td>\n",
       "      <td>15.3</td>\n",
       "      <td>105</td>\n",
       "      <td>2.19e+06</td>\n",
       "      <td>1.66e+06</td>\n",
       "      <td>3.07e+06</td>\n",
       "    </tr>\n",
       "    <tr>\n",
       "      <th>9</th>\n",
       "      <td>Set Gillnets</td>\n",
       "      <td>&lt;NA&gt;</td>\n",
       "      <td>14.9</td>\n",
       "      <td>0.502</td>\n",
       "      <td>166</td>\n",
       "      <td>3.15e+06</td>\n",
       "      <td>8.86e+05</td>\n",
       "      <td>1.56e+07</td>\n",
       "    </tr>\n",
       "    <tr>\n",
       "      <th>10</th>\n",
       "      <td>Drifting FADs</td>\n",
       "      <td>&lt;NA&gt;</td>\n",
       "      <td>1.42</td>\n",
       "      <td>0.65</td>\n",
       "      <td>2.29</td>\n",
       "      <td>2.03e+06</td>\n",
       "      <td>1.5e+06</td>\n",
       "      <td>2.64e+06</td>\n",
       "    </tr>\n",
       "  </tbody>\n",
       "</table>\n",
       "</div>"
      ],
      "text/plain": [
       "             Gear   tau unit_median unit_05 unit_95 diss_median   diss_05  \\\n",
       "0        Trawlers   0.5       0.451   0.182   0.922    4.24e+05  3.62e+05   \n",
       "1        Trawlers   0.7        1.17   0.278    3.02    1.19e+06  1.01e+06   \n",
       "2        Trawlers   0.9        5.56   0.566    24.5    6.93e+06  5.32e+06   \n",
       "3         Seiners   0.5        2.94   0.223    35.5     2.2e+06  1.23e+06   \n",
       "4         Seiners   0.7        10.2   0.907    78.8    6.59e+06  3.59e+06   \n",
       "5         Seiners   0.9          53     4.4     594    3.91e+07  2.14e+07   \n",
       "6       Longlines   0.5        7.02    2.32    27.1    4.67e+05  3.51e+05   \n",
       "7       Longlines   0.7        12.7    4.28    45.3    8.13e+05  5.98e+05   \n",
       "8       Longlines   0.9        38.5    15.3     105    2.19e+06  1.66e+06   \n",
       "9    Set Gillnets  <NA>        14.9   0.502     166    3.15e+06  8.86e+05   \n",
       "10  Drifting FADs  <NA>        1.42    0.65    2.29    2.03e+06   1.5e+06   \n",
       "\n",
       "     diss_95  \n",
       "0   4.97e+05  \n",
       "1   1.44e+06  \n",
       "2   9.77e+06  \n",
       "3   4.53e+06  \n",
       "4   1.44e+07  \n",
       "5   8.71e+07  \n",
       "6   6.78e+05  \n",
       "7   1.21e+06  \n",
       "8   3.07e+06  \n",
       "9   1.56e+07  \n",
       "10  2.64e+06  "
      ]
     },
     "execution_count": 38,
     "metadata": {},
     "output_type": "execute_result"
    }
   ],
   "source": [
    "tab3"
   ]
  },
  {
   "cell_type": "code",
   "execution_count": 39,
   "metadata": {},
   "outputs": [
    {
     "name": "stdout",
     "output_type": "stream",
     "text": [
      "\\begin{tabular}{llllllll}\n",
      "\\toprule\n",
      "          Gear &   tau & unit\\_median & unit\\_05 & unit\\_95 & diss\\_median &   diss\\_05 &   diss\\_95 \\\\\n",
      "\\midrule\n",
      "      Trawlers &   0.5 &       0.451 &   0.182 &   0.922 &    4.24e+05 &  3.62e+05 &  4.97e+05 \\\\\n",
      "      Trawlers &   0.7 &        1.17 &   0.278 &    3.02 &    1.19e+06 &  1.01e+06 &  1.44e+06 \\\\\n",
      "      Trawlers &   0.9 &        5.56 &   0.566 &    24.5 &    6.93e+06 &  5.32e+06 &  9.77e+06 \\\\\n",
      "       Seiners &   0.5 &        2.94 &   0.223 &    35.5 &     2.2e+06 &  1.23e+06 &  4.53e+06 \\\\\n",
      "       Seiners &   0.7 &        10.2 &   0.907 &    78.8 &    6.59e+06 &  3.59e+06 &  1.44e+07 \\\\\n",
      "       Seiners &   0.9 &          53 &     4.4 &     594 &    3.91e+07 &  2.14e+07 &  8.71e+07 \\\\\n",
      "     Longlines &   0.5 &        7.02 &    2.32 &    27.1 &    4.67e+05 &  3.51e+05 &  6.78e+05 \\\\\n",
      "     Longlines &   0.7 &        12.7 &    4.28 &    45.3 &    8.13e+05 &  5.98e+05 &  1.21e+06 \\\\\n",
      "     Longlines &   0.9 &        38.5 &    15.3 &     105 &    2.19e+06 &  1.66e+06 &  3.07e+06 \\\\\n",
      "  Set Gillnets &  <NA> &        14.9 &   0.502 &     166 &    3.15e+06 &  8.86e+05 &  1.56e+07 \\\\\n",
      " Drifting FADs &  <NA> &        1.42 &    0.65 &    2.29 &    2.03e+06 &   1.5e+06 &  2.64e+06 \\\\\n",
      "\\bottomrule\n",
      "\\end{tabular}\n",
      "\n"
     ]
    }
   ],
   "source": [
    "print(tab3.to_latex(index=False))"
   ]
  },
  {
   "cell_type": "code",
   "execution_count": 40,
   "metadata": {},
   "outputs": [],
   "source": [
    "tab3.to_csv(results_csv, index=False)"
   ]
  },
  {
   "cell_type": "code",
   "execution_count": 41,
   "metadata": {},
   "outputs": [
    {
     "name": "stdout",
     "output_type": "stream",
     "text": [
      "Gear,tau,unit_median,unit_05,unit_95,diss_median,diss_05,diss_95\n",
      "Trawlers,0.5,0.451,0.182,0.922,4.24e+05,3.62e+05,4.97e+05\n",
      "Trawlers,0.7,1.17,0.278,3.02,1.19e+06,1.01e+06,1.44e+06\n",
      "Trawlers,0.9,5.56,0.566,24.5,6.93e+06,5.32e+06,9.77e+06\n",
      "Seiners,0.5,2.94,0.223,35.5,2.2e+06,1.23e+06,4.53e+06\n",
      "Seiners,0.7,10.2,0.907,78.8,6.59e+06,3.59e+06,1.44e+07\n",
      "Seiners,0.9,53,4.4,594,3.91e+07,2.14e+07,8.71e+07\n",
      "Longlines,0.5,7.02,2.32,27.1,4.67e+05,3.51e+05,6.78e+05\n",
      "Longlines,0.7,12.7,4.28,45.3,8.13e+05,5.98e+05,1.21e+06\n",
      "Longlines,0.9,38.5,15.3,105,2.19e+06,1.66e+06,3.07e+06\n",
      "Set Gillnets,,14.9,0.502,166,3.15e+06,8.86e+05,1.56e+07\n",
      "Drifting FADs,,1.42,0.65,2.29,2.03e+06,1.5e+06,2.64e+06\n",
      "\n"
     ]
    }
   ],
   "source": [
    "print(tab3.to_csv(index=False))"
   ]
  },
  {
   "cell_type": "code",
   "execution_count": 42,
   "metadata": {},
   "outputs": [
    {
     "data": {
      "text/plain": [
       "tau\n",
       "NaN     5180000.0\n",
       "0.5     3091000.0\n",
       "0.7     8593000.0\n",
       "0.9    48220000.0\n",
       "dtype: float64"
      ]
     },
     "execution_count": 42,
     "metadata": {},
     "output_type": "execute_result"
    }
   ],
   "source": [
    "tab3.pivot(index='tau', columns='Gear', values='diss_median').fillna(0.0).astype(float).sum(axis=1)"
   ]
  },
  {
   "cell_type": "markdown",
   "metadata": {},
   "source": [
    "#### "
   ]
  },
  {
   "cell_type": "code",
   "execution_count": 52,
   "metadata": {},
   "outputs": [
    {
     "data": {
      "text/plain": [
       "0.14451313999999998"
      ]
     },
     "execution_count": 52,
     "metadata": {},
     "output_type": "execute_result"
    }
   ],
   "source": [
    "r_cm = 0.2  # = 1.4mm line\n",
    "# g/cm3 * cm * cm * pi = g/cm\n",
    "1.15 * r_cm * r_cm * 3.14159"
   ]
  },
  {
   "cell_type": "code",
   "execution_count": 58,
   "metadata": {},
   "outputs": [
    {
     "name": "stdout",
     "output_type": "stream",
     "text": [
      "d = 1.4 mm\n",
      "w = 6.28 lb/mi\n"
     ]
    }
   ],
   "source": [
    "r_cm = 0.07\n",
    "# g/cm * cm/m * m/mi * kg/g * lb/kg == lb/mi\n",
    "print('d = %g mm' % (r_cm * 20))\n",
    "w = 1.15 * r_cm * r_cm * 3.14159 *100 * 1609 * .001 * 2.204\n",
    "print('w = %.3g lb/mi' % w)"
   ]
  }
 ],
 "metadata": {
  "kernelspec": {
   "display_name": "Python 3",
   "language": "python",
   "name": "python3"
  },
  "language_info": {
   "codemirror_mode": {
    "name": "ipython",
    "version": 3
   },
   "file_extension": ".py",
   "mimetype": "text/x-python",
   "name": "python",
   "nbconvert_exporter": "python",
   "pygments_lexer": "ipython3",
   "version": "3.9.2"
  }
 },
 "nbformat": 4,
 "nbformat_minor": 4
}
